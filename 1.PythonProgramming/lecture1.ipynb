{
 "cells": [
  {
   "cell_type": "code",
   "execution_count": 90,
   "id": "bcb2b52b",
   "metadata": {},
   "outputs": [
    {
     "name": "stdout",
     "output_type": "stream",
     "text": [
      "<class 'int'>\n",
      "<class 'float'>\n",
      "<class 'complex'>\n"
     ]
    }
   ],
   "source": [
    "#single line comment \n",
    "\n",
    "#data types in python programming\n",
    "''' \n",
    "1. int\n",
    "2.float\n",
    "3.complex\n",
    "4.string\n",
    "5.boolean\n",
    "6.list\n",
    "7.boolean\n",
    "8.tuple\n",
    "9.dict\n",
    "10.class : custom data type\n",
    "\n",
    "'''\n",
    "number = 100\n",
    "number1 = 23.523\n",
    "number2 = 100 + 2j\n",
    "\n",
    "print(type(number))  # this will gives the datatype of number \n",
    "print(type(number1))  # this will gives the datatype of number \n",
    "print(type(number2))  # this will gives the datatype of number \n",
    "\n",
    "\n"
   ]
  },
  {
   "cell_type": "code",
   "execution_count": 91,
   "id": "54b3ece4",
   "metadata": {},
   "outputs": [],
   "source": [
    "#variable Definition\n",
    "\n",
    "x= 10\n",
    "x,y = 100,20\n",
    "x,y,z,_ = 1,2,3,4\n",
    "_,x,y,z=2,3,4,5"
   ]
  },
  {
   "cell_type": "code",
   "execution_count": 92,
   "id": "b53568a8",
   "metadata": {},
   "outputs": [
    {
     "name": "stdout",
     "output_type": "stream",
     "text": [
      "111111\n"
     ]
    }
   ],
   "source": [
    "num1='111'\n",
    "num2=2\n",
    "num3 = num1 * num2\n",
    "print(num3)"
   ]
  },
  {
   "cell_type": "code",
   "execution_count": 93,
   "id": "c9729da0",
   "metadata": {},
   "outputs": [
    {
     "data": {
      "text/plain": [
       "'\\n1. Special character are not allowed at the prefix of variable.\\nexample: 123num : not allowed X\\n2. the variable defination should contain any special character or space.\\nexample: Primary Number : not allowed X\\n\\n\\n'"
      ]
     },
     "execution_count": 93,
     "metadata": {},
     "output_type": "execute_result"
    }
   ],
   "source": [
    "Integer_number =100\n",
    "#Rules for variable defination\n",
    "'''\n",
    "1. Special character are not allowed at the prefix of variable.\n",
    "example: 123num : not allowed X\n",
    "2. the variable defination should contain any special character or space.\n",
    "example: Primary Number : not allowed X\n",
    "\n",
    "\n",
    "'''"
   ]
  },
  {
   "cell_type": "code",
   "execution_count": 94,
   "id": "95149697",
   "metadata": {},
   "outputs": [
    {
     "name": "stdout",
     "output_type": "stream",
     "text": [
      "heyy\n",
      "300\n"
     ]
    }
   ],
   "source": [
    "# print Function\n",
    "\n",
    "print('heyy')\n",
    "print(100+200)"
   ]
  },
  {
   "cell_type": "code",
   "execution_count": 95,
   "id": "89d59147",
   "metadata": {},
   "outputs": [
    {
     "name": "stdout",
     "output_type": "stream",
     "text": [
      "ello Welc\n"
     ]
    }
   ],
   "source": [
    "#concept of indexing and slicing\n",
    "\n",
    "str = 'Hello Welcome to the World of Python Programming.'\n",
    "\n",
    "str[3]\n",
    "\n",
    "'''\n",
    "note: \n",
    "string indexing : string[start:stop:step]\n",
    "\n",
    "'''\n",
    "print(str[1:10:1])"
   ]
  },
  {
   "cell_type": "code",
   "execution_count": 96,
   "id": "69a8e386",
   "metadata": {},
   "outputs": [
    {
     "name": "stdout",
     "output_type": "stream",
     "text": [
      "tagahtat\n"
     ]
    }
   ],
   "source": [
    "str = 'tathagat'\n",
    "print(str[::-1])"
   ]
  },
  {
   "cell_type": "code",
   "execution_count": 97,
   "id": "f9813567",
   "metadata": {},
   "outputs": [
    {
     "name": "stdout",
     "output_type": "stream",
     "text": [
      "I SAGETCUT\n"
     ]
    }
   ],
   "source": [
    "str = 'INDIA IS A GREAT COUNTRY'\n",
    "print(str[3:-2:2])"
   ]
  },
  {
   "cell_type": "code",
   "execution_count": 98,
   "id": "c887c6d6",
   "metadata": {},
   "outputs": [
    {
     "name": "stdout",
     "output_type": "stream",
     "text": [
      "RICA NIC\n"
     ]
    }
   ],
   "source": [
    "str = 'AMERICA NICE'\n",
    "print(str[-9:-1: ] )"
   ]
  },
  {
   "cell_type": "code",
   "execution_count": 99,
   "id": "130c7bbe",
   "metadata": {},
   "outputs": [
    {
     "name": "stdout",
     "output_type": "stream",
     "text": [
      " I AM TRUE\n"
     ]
    }
   ],
   "source": [
    "# IF ELSE STATEMENT\n",
    "if True:\n",
    "    print(' I AM TRUE')\n",
    "\n",
    "if False:\n",
    "    print('I AM FALSE')"
   ]
  },
  {
   "cell_type": "code",
   "execution_count": 100,
   "id": "93bec056",
   "metadata": {},
   "outputs": [
    {
     "name": "stdout",
     "output_type": "stream",
     "text": [
      "not satisfy the criteria\n"
     ]
    }
   ],
   "source": [
    "'''\n",
    "Logic\n",
    "if<condition>:\n",
    "    print(\"output1\")\n",
    "else:\n",
    "    print(\"output2\")\n",
    "'''\n",
    "\n",
    "num = 100\n",
    "\n",
    "if num > 100:\n",
    "    print('The number is Satify criteria')\n",
    "else:\n",
    "    print('not satisfy the criteria')"
   ]
  },
  {
   "cell_type": "code",
   "execution_count": 101,
   "id": "75de3d62",
   "metadata": {},
   "outputs": [],
   "source": [
    "#guessing the number game\n",
    "\n",
    "'''\n",
    "logic\n",
    "1.enter the number\n",
    "2.write logic code to guess the number \n",
    "3.output\n",
    "'''\n",
    "\n",
    "number = float(input('enter the number between 1 to 3:'))\n",
    "\n",
    "if number == 1:\n",
    "    print('the number 1')\n",
    "if number == 2:\n",
    "    print('the number 2')\n",
    "if number == 3:\n",
    "    print('the number 3')"
   ]
  },
  {
   "cell_type": "code",
   "execution_count": 102,
   "id": "0d238b56",
   "metadata": {},
   "outputs": [
    {
     "name": "stdout",
     "output_type": "stream",
     "text": [
      "No, it's not a palindrome\n"
     ]
    }
   ],
   "source": [
    "#whether given string is palindrome or not\n",
    "'''\n",
    "1.ask user to enter the string\n",
    "2.reverse the sring \n",
    "3.use if else logic\n",
    "'''\n",
    "\n",
    "# Simple palindrome check in Python\n",
    "\n",
    "text = input(\"Enter a string: \")\n",
    "\n",
    "if text == text[::-1]: # comparison operator (==)\n",
    "    print(\"Yes, it's a palindrome\")\n",
    "else:\n",
    "    print(\"No, it's not a palindrome\")\n"
   ]
  },
  {
   "cell_type": "code",
   "execution_count": 103,
   "id": "5e5b42c8",
   "metadata": {},
   "outputs": [
    {
     "ename": "ValueError",
     "evalue": "invalid literal for int() with base 10: ''",
     "output_type": "error",
     "traceback": [
      "\u001b[31m---------------------------------------------------------------------------\u001b[39m",
      "\u001b[31mValueError\u001b[39m                                Traceback (most recent call last)",
      "\u001b[36mCell\u001b[39m\u001b[36m \u001b[39m\u001b[32mIn[103]\u001b[39m\u001b[32m, line 3\u001b[39m\n\u001b[32m      1\u001b[39m \u001b[38;5;66;03m#EXAMPLE:STUDENTS MARKS\u001b[39;00m\n\u001b[32m----> \u001b[39m\u001b[32m3\u001b[39m marks = \u001b[38;5;28;43mint\u001b[39;49m\u001b[43m(\u001b[49m\u001b[38;5;28;43minput\u001b[39;49m\u001b[43m(\u001b[49m\u001b[33;43m\"\u001b[39;49m\u001b[33;43mEnter student\u001b[39;49m\u001b[33;43m'\u001b[39;49m\u001b[33;43ms marks: \u001b[39;49m\u001b[33;43m\"\u001b[39;49m\u001b[43m)\u001b[49m\u001b[43m)\u001b[49m\n\u001b[32m      5\u001b[39m \u001b[38;5;28;01mif\u001b[39;00m marks >= \u001b[32m90\u001b[39m:\n\u001b[32m      6\u001b[39m     \u001b[38;5;28mprint\u001b[39m(\u001b[33m\"\u001b[39m\u001b[33mExcellent\u001b[39m\u001b[33m\"\u001b[39m)\n",
      "\u001b[31mValueError\u001b[39m: invalid literal for int() with base 10: ''"
     ]
    }
   ],
   "source": [
    "#EXAMPLE:STUDENTS MARKS\n",
    "\n",
    "marks = int(input(\"Enter student's marks: \"))\n",
    "\n",
    "if marks >= 90:\n",
    "    print(\"Excellent\")\n",
    "elif 80 <= marks < 90:\n",
    "    print(\"Good\")\n",
    "elif 60 <= marks <= 70:\n",
    "    print(\"Moderate\")\n",
    "else:\n",
    "    print(\"Average\")\n"
   ]
  },
  {
   "cell_type": "code",
   "execution_count": null,
   "id": "799d2aa1",
   "metadata": {},
   "outputs": [
    {
     "name": "stdout",
     "output_type": "stream",
     "text": [
      "the volume of cylinder is 9.42 mm^3\n"
     ]
    }
   ],
   "source": [
    "# Example : write a program to print volume of cylinder\n",
    "'''\n",
    "volume = Area * Height\n",
    "step 1: ask user to enter the diameter of cylinder\n",
    "step 2: ask user to enter the height of cylinder\n",
    "step 3: volume = area * height\n",
    "step 4: print the desired output \n",
    "'''\n",
    "PI=3.14\n",
    "diameter = float(input(\"enter the diameter of cylinder:\"))\n",
    "height = float(input(\"enter the height of cylinder\"))\n",
    "volume = (PI/4)*(diameter**2) * height\n",
    "\n",
    "print(f'the volume of cylinder is {volume} mm^3')\n"
   ]
  },
  {
   "cell_type": "code",
   "execution_count": null,
   "id": "7563e67f",
   "metadata": {},
   "outputs": [
    {
     "name": "stdout",
     "output_type": "stream",
     "text": [
      "0\n",
      "1\n",
      "2\n",
      "3\n",
      "4\n",
      "5\n",
      "6\n",
      "7\n",
      "8\n",
      "9\n"
     ]
    }
   ],
   "source": [
    "#FOR LOOP\n",
    "for i in range(0,10):\n",
    "    print(i)"
   ]
  },
  {
   "cell_type": "code",
   "execution_count": null,
   "id": "3c682d8f",
   "metadata": {},
   "outputs": [
    {
     "name": "stdout",
     "output_type": "stream",
     "text": [
      "0\n",
      "2\n",
      "4\n",
      "6\n",
      "8\n"
     ]
    }
   ],
   "source": [
    "# EVEN NUMBER \n",
    "for i in range(0,10,2):\n",
    "    print(i)"
   ]
  },
  {
   "cell_type": "code",
   "execution_count": null,
   "id": "65b33172",
   "metadata": {},
   "outputs": [
    {
     "name": "stdout",
     "output_type": "stream",
     "text": [
      "0 1 2 3 4 5 6 7 8 9 "
     ]
    }
   ],
   "source": [
    "for i in range(0,10):\n",
    "    print(i,end = ' ')"
   ]
  },
  {
   "cell_type": "code",
   "execution_count": null,
   "id": "f78939fb",
   "metadata": {},
   "outputs": [
    {
     "name": "stdout",
     "output_type": "stream",
     "text": [
      "\n",
      "#\n",
      "##\n",
      "###\n",
      "####\n",
      "#####\n",
      "######\n",
      "#######\n",
      "########\n",
      "#########\n"
     ]
    }
   ],
   "source": [
    "for i in range (10):\n",
    "    print('#'*i)"
   ]
  },
  {
   "cell_type": "code",
   "execution_count": null,
   "id": "1c8287b6",
   "metadata": {},
   "outputs": [
    {
     "name": "stdout",
     "output_type": "stream",
     "text": [
      "0\n",
      "1\n",
      "2\n",
      "3\n",
      "4\n",
      "5\n",
      "6\n"
     ]
    }
   ],
   "source": [
    "for i in range(0,10):\n",
    "    print(i)\n",
    "    if i == 6:\n",
    "        break"
   ]
  },
  {
   "cell_type": "code",
   "execution_count": null,
   "id": "31cff289",
   "metadata": {},
   "outputs": [
    {
     "name": "stdout",
     "output_type": "stream",
     "text": [
      "0\n",
      "1\n",
      "2\n",
      "3\n",
      "4\n",
      "5\n",
      "6\n",
      "7\n",
      "8\n",
      "9\n"
     ]
    }
   ],
   "source": [
    "for i in range(0,10):\n",
    "    print(i)\n",
    "    if i == 6:\n",
    "        pass"
   ]
  },
  {
   "cell_type": "code",
   "execution_count": null,
   "id": "5b582156",
   "metadata": {},
   "outputs": [],
   "source": [
    "#define function : test\n",
    "\n",
    "def test():\n",
    "    pass \n",
    "\n",
    "test()"
   ]
  },
  {
   "cell_type": "code",
   "execution_count": null,
   "id": "736db9f6",
   "metadata": {},
   "outputs": [
    {
     "name": "stdout",
     "output_type": "stream",
     "text": [
      "the given string is a palindrome\n"
     ]
    }
   ],
   "source": [
    "#examole :\n",
    "#palindrome function definition\n",
    "def Palindrom():\n",
    "    text1 = input('enter the string:')\n",
    "    text2 = text1[::-1]\n",
    "\n",
    "    if text1 == text2:\n",
    "        print(\"the given string is a palindrome\")\n",
    "    else:\n",
    "        print(\"not a palindrome\")\n",
    "        \n",
    "Palindrom() #function calling"
   ]
  },
  {
   "cell_type": "code",
   "execution_count": null,
   "id": "fa541f36",
   "metadata": {},
   "outputs": [
    {
     "name": "stdout",
     "output_type": "stream",
     "text": [
      "the answer is 300\n"
     ]
    }
   ],
   "source": [
    "#addition of two number \n",
    "def compute(num1,num2):\n",
    "    num3 = num1 +num2\n",
    "    return num3\n",
    "ans = compute(100,200) # function calling\n",
    "\n",
    "print(f'the answer is {ans}')\n"
   ]
  }
 ],
 "metadata": {
  "kernelspec": {
   "display_name": "Python 3",
   "language": "python",
   "name": "python3"
  },
  "language_info": {
   "codemirror_mode": {
    "name": "ipython",
    "version": 3
   },
   "file_extension": ".py",
   "mimetype": "text/x-python",
   "name": "python",
   "nbconvert_exporter": "python",
   "pygments_lexer": "ipython3",
   "version": "3.12.11"
  }
 },
 "nbformat": 4,
 "nbformat_minor": 5
}
