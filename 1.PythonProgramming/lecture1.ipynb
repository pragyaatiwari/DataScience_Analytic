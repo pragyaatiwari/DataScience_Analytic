{
 "cells": [
  {
   "cell_type": "code",
   "execution_count": 188,
   "id": "bcb2b52b",
   "metadata": {},
   "outputs": [
    {
     "name": "stdout",
     "output_type": "stream",
     "text": [
      "<class 'int'>\n",
      "<class 'float'>\n",
      "<class 'complex'>\n"
     ]
    }
   ],
   "source": [
    "#single line comment \n",
    "\n",
    "#data types in python programming\n",
    "''' \n",
    "1. int\n",
    "2.float\n",
    "3.complex\n",
    "4.string\n",
    "5.boolean\n",
    "6.list\n",
    "7.boolean\n",
    "8.tuple\n",
    "9.dict\n",
    "10.class : custom data type\n",
    "\n",
    "'''\n",
    "number = 100\n",
    "number1 = 23.523\n",
    "number2 = 100 + 2j\n",
    "\n",
    "print(type(number))  # this will gives the datatype of number \n",
    "print(type(number1))  # this will gives the datatype of number \n",
    "print(type(number2))  # this will gives the datatype of number \n",
    "\n",
    "\n"
   ]
  },
  {
   "cell_type": "code",
   "execution_count": 189,
   "id": "54b3ece4",
   "metadata": {},
   "outputs": [],
   "source": [
    "#variable Definition\n",
    "\n",
    "x= 10\n",
    "x,y = 100,20\n",
    "x,y,z,_ = 1,2,3,4\n",
    "_,x,y,z=2,3,4,5"
   ]
  },
  {
   "cell_type": "code",
   "execution_count": 190,
   "id": "b53568a8",
   "metadata": {},
   "outputs": [
    {
     "name": "stdout",
     "output_type": "stream",
     "text": [
      "111111\n"
     ]
    }
   ],
   "source": [
    "num1='111'\n",
    "num2=2\n",
    "num3 = num1 * num2\n",
    "print(num3)"
   ]
  },
  {
   "cell_type": "code",
   "execution_count": 191,
   "id": "c9729da0",
   "metadata": {},
   "outputs": [
    {
     "data": {
      "text/plain": [
       "'\\n1. Special character are not allowed at the prefix of variable.\\nexample: 123num : not allowed X\\n2. the variable defination should contain any special character or space.\\nexample: Primary Number : not allowed X\\n\\n\\n'"
      ]
     },
     "execution_count": 191,
     "metadata": {},
     "output_type": "execute_result"
    }
   ],
   "source": [
    "Integer_number =100\n",
    "#Rules for variable defination\n",
    "'''\n",
    "1. Special character are not allowed at the prefix of variable.\n",
    "example: 123num : not allowed X\n",
    "2. the variable defination should contain any special character or space.\n",
    "example: Primary Number : not allowed X\n",
    "\n",
    "\n",
    "'''"
   ]
  },
  {
   "cell_type": "code",
   "execution_count": 192,
   "id": "95149697",
   "metadata": {},
   "outputs": [
    {
     "name": "stdout",
     "output_type": "stream",
     "text": [
      "heyy\n",
      "300\n"
     ]
    }
   ],
   "source": [
    "# print Function\n",
    "\n",
    "print('heyy')\n",
    "print(100+200)"
   ]
  },
  {
   "cell_type": "code",
   "execution_count": 193,
   "id": "89d59147",
   "metadata": {},
   "outputs": [
    {
     "name": "stdout",
     "output_type": "stream",
     "text": [
      "ello Welc\n"
     ]
    }
   ],
   "source": [
    "#concept of indexing and slicing\n",
    "\n",
    "str = 'Hello Welcome to the World of Python Programming.'\n",
    "\n",
    "str[3]\n",
    "\n",
    "'''\n",
    "note: \n",
    "string indexing : string[start:stop:step]\n",
    "\n",
    "'''\n",
    "print(str[1:10:1])"
   ]
  },
  {
   "cell_type": "code",
   "execution_count": 194,
   "id": "69a8e386",
   "metadata": {},
   "outputs": [
    {
     "name": "stdout",
     "output_type": "stream",
     "text": [
      "tagahtat\n"
     ]
    }
   ],
   "source": [
    "str = 'tathagat'\n",
    "print(str[::-1])"
   ]
  },
  {
   "cell_type": "code",
   "execution_count": 195,
   "id": "f9813567",
   "metadata": {},
   "outputs": [
    {
     "name": "stdout",
     "output_type": "stream",
     "text": [
      "I SAGETCUT\n"
     ]
    }
   ],
   "source": [
    "str = 'INDIA IS A GREAT COUNTRY'\n",
    "print(str[3:-2:2])"
   ]
  },
  {
   "cell_type": "code",
   "execution_count": 196,
   "id": "c887c6d6",
   "metadata": {},
   "outputs": [
    {
     "name": "stdout",
     "output_type": "stream",
     "text": [
      "RICA NIC\n"
     ]
    }
   ],
   "source": [
    "str = 'AMERICA NICE'\n",
    "print(str[-9:-1: ] )"
   ]
  },
  {
   "cell_type": "code",
   "execution_count": 197,
   "id": "130c7bbe",
   "metadata": {},
   "outputs": [
    {
     "name": "stdout",
     "output_type": "stream",
     "text": [
      " I AM TRUE\n"
     ]
    }
   ],
   "source": [
    "# IF ELSE STATEMENT\n",
    "if True:\n",
    "    print(' I AM TRUE')\n",
    "\n",
    "if False:\n",
    "    print('I AM FALSE')"
   ]
  },
  {
   "cell_type": "code",
   "execution_count": 198,
   "id": "93bec056",
   "metadata": {},
   "outputs": [
    {
     "name": "stdout",
     "output_type": "stream",
     "text": [
      "not satisfy the criteria\n"
     ]
    }
   ],
   "source": [
    "'''\n",
    "Logic\n",
    "if<condition>:\n",
    "    print(\"output1\")\n",
    "else:\n",
    "    print(\"output2\")\n",
    "'''\n",
    "\n",
    "num = 100\n",
    "\n",
    "if num > 100:\n",
    "    print('The number is Satify criteria')\n",
    "else:\n",
    "    print('not satisfy the criteria')"
   ]
  },
  {
   "cell_type": "code",
   "execution_count": 199,
   "id": "75de3d62",
   "metadata": {},
   "outputs": [
    {
     "ename": "ValueError",
     "evalue": "could not convert string to float: 'mom'",
     "output_type": "error",
     "traceback": [
      "\u001b[31m---------------------------------------------------------------------------\u001b[39m",
      "\u001b[31mValueError\u001b[39m                                Traceback (most recent call last)",
      "\u001b[36mCell\u001b[39m\u001b[36m \u001b[39m\u001b[32mIn[199]\u001b[39m\u001b[32m, line 10\u001b[39m\n\u001b[32m      1\u001b[39m \u001b[38;5;66;03m#guessing the number game\u001b[39;00m\n\u001b[32m      3\u001b[39m \u001b[33;03m'''\u001b[39;00m\n\u001b[32m      4\u001b[39m \u001b[33;03mlogic\u001b[39;00m\n\u001b[32m      5\u001b[39m \u001b[33;03m1.enter the number\u001b[39;00m\n\u001b[32m      6\u001b[39m \u001b[33;03m2.write logic code to guess the number \u001b[39;00m\n\u001b[32m      7\u001b[39m \u001b[33;03m3.output\u001b[39;00m\n\u001b[32m      8\u001b[39m \u001b[33;03m'''\u001b[39;00m\n\u001b[32m---> \u001b[39m\u001b[32m10\u001b[39m number = \u001b[38;5;28;43mfloat\u001b[39;49m\u001b[43m(\u001b[49m\u001b[38;5;28;43minput\u001b[39;49m\u001b[43m(\u001b[49m\u001b[33;43m'\u001b[39;49m\u001b[33;43menter the number between 1 to 3:\u001b[39;49m\u001b[33;43m'\u001b[39;49m\u001b[43m)\u001b[49m\u001b[43m)\u001b[49m\n\u001b[32m     12\u001b[39m \u001b[38;5;28;01mif\u001b[39;00m number == \u001b[32m1\u001b[39m:\n\u001b[32m     13\u001b[39m     \u001b[38;5;28mprint\u001b[39m(\u001b[33m'\u001b[39m\u001b[33mthe number 1\u001b[39m\u001b[33m'\u001b[39m)\n",
      "\u001b[31mValueError\u001b[39m: could not convert string to float: 'mom'"
     ]
    }
   ],
   "source": [
    "#guessing the number game\n",
    "\n",
    "'''\n",
    "logic\n",
    "1.enter the number\n",
    "2.write logic code to guess the number \n",
    "3.output\n",
    "'''\n",
    "\n",
    "number = float(input('enter the number between 1 to 3:'))\n",
    "\n",
    "if number == 1:\n",
    "    print('the number 1')\n",
    "if number == 2:\n",
    "    print('the number 2')\n",
    "if number == 3:\n",
    "    print('the number 3')"
   ]
  },
  {
   "cell_type": "code",
   "execution_count": null,
   "id": "fab865cc",
   "metadata": {},
   "outputs": [
    {
     "name": "stdout",
     "output_type": "stream",
     "text": [
      "the number is 2\n"
     ]
    }
   ],
   "source": [
    "number = float(input())\n",
    "if number > 2:\n",
    "    print('the enter number is higher value')\n",
    "if number < 2:\n",
    "    print('the enter number is Lower value')\n",
    "else:\n",
    "    print('the number is 2')"
   ]
  },
  {
   "cell_type": "code",
   "execution_count": null,
   "id": "0d238b56",
   "metadata": {},
   "outputs": [
    {
     "name": "stdout",
     "output_type": "stream",
     "text": [
      "Yes, it's a palindrome\n"
     ]
    }
   ],
   "source": [
    "#whether given string is palindrome or not\n",
    "'''\n",
    "1.ask user to enter the string\n",
    "2.reverse the sring \n",
    "3.use if else logic\n",
    "'''\n",
    "\n",
    "# Simple palindrome check in Python\n",
    "\n",
    "text = input(\"Enter a string: \")\n",
    "\n",
    "if text == text[::-1]: # comparison operator (==)\n",
    "    print(\"Yes, it's a palindrome\")\n",
    "else:\n",
    "    print(\"No, it's not a palindrome\")\n"
   ]
  },
  {
   "cell_type": "code",
   "execution_count": null,
   "id": "91b71533",
   "metadata": {},
   "outputs": [],
   "source": []
  }
 ],
 "metadata": {
  "kernelspec": {
   "display_name": "Python 3",
   "language": "python",
   "name": "python3"
  },
  "language_info": {
   "codemirror_mode": {
    "name": "ipython",
    "version": 3
   },
   "file_extension": ".py",
   "mimetype": "text/x-python",
   "name": "python",
   "nbconvert_exporter": "python",
   "pygments_lexer": "ipython3",
   "version": "3.12.11"
  }
 },
 "nbformat": 4,
 "nbformat_minor": 5
}
