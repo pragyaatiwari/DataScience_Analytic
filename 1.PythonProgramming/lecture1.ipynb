{
 "cells": [
  {
   "cell_type": "code",
   "execution_count": 22,
   "id": "bcb2b52b",
   "metadata": {},
   "outputs": [
    {
     "name": "stdout",
     "output_type": "stream",
     "text": [
      "<class 'int'>\n",
      "<class 'float'>\n",
      "<class 'complex'>\n"
     ]
    }
   ],
   "source": [
    "#single line comment \n",
    "\n",
    "#data types in python programming\n",
    "''' \n",
    "1. int\n",
    "2.float\n",
    "3.complex\n",
    "4.string\n",
    "5.boolean\n",
    "6.list\n",
    "7.boolean\n",
    "8.tuple\n",
    "9.dict\n",
    "10.class : custom data type\n",
    "\n",
    "'''\n",
    "number = 100\n",
    "number1 = 23.523\n",
    "number2 = 100 + 2j\n",
    "\n",
    "print(type(number))  # this will gives the datatype of number \n",
    "print(type(number1))  # this will gives the datatype of number \n",
    "print(type(number2))  # this will gives the datatype of number \n",
    "\n",
    "\n"
   ]
  },
  {
   "cell_type": "code",
   "execution_count": 23,
   "id": "54b3ece4",
   "metadata": {},
   "outputs": [],
   "source": [
    "#variable Definition\n",
    "\n",
    "x= 10\n",
    "x,y = 100,20\n",
    "x,y,z,_ = 1,2,3,4\n",
    "_,x,y,z=2,3,4,5"
   ]
  },
  {
   "cell_type": "code",
   "execution_count": 24,
   "id": "b53568a8",
   "metadata": {},
   "outputs": [
    {
     "name": "stdout",
     "output_type": "stream",
     "text": [
      "111111\n"
     ]
    }
   ],
   "source": [
    "num1='111'\n",
    "num2=2\n",
    "num3 = num1 * num2\n",
    "print(num3)"
   ]
  }
 ],
 "metadata": {
  "kernelspec": {
   "display_name": "Python 3",
   "language": "python",
   "name": "python3"
  },
  "language_info": {
   "codemirror_mode": {
    "name": "ipython",
    "version": 3
   },
   "file_extension": ".py",
   "mimetype": "text/x-python",
   "name": "python",
   "nbconvert_exporter": "python",
   "pygments_lexer": "ipython3",
   "version": "3.12.11"
  }
 },
 "nbformat": 4,
 "nbformat_minor": 5
}
