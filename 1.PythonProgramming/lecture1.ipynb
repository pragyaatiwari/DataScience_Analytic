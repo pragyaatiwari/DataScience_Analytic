{
 "cells": [
  {
   "cell_type": "code",
   "execution_count": 1,
   "id": "bcb2b52b",
   "metadata": {},
   "outputs": [
    {
     "name": "stdout",
     "output_type": "stream",
     "text": [
      "<class 'int'>\n",
      "<class 'float'>\n",
      "<class 'complex'>\n"
     ]
    }
   ],
   "source": [
    "#single line comment \n",
    "\n",
    "#data types in python programming\n",
    "''' \n",
    "1. int\n",
    "2.float\n",
    "3.complex\n",
    "4.string\n",
    "5.boolean\n",
    "6.list\n",
    "7.boolean\n",
    "8.tuple\n",
    "9.dict\n",
    "10.class : custom data type\n",
    "\n",
    "'''\n",
    "number = 100\n",
    "number1 = 23.523\n",
    "number2 = 100 + 2j\n",
    "\n",
    "print(type(number))  # this will gives the datatype of number \n",
    "print(type(number1))  # this will gives the datatype of number \n",
    "print(type(number2))  # this will gives the datatype of number \n",
    "\n",
    "\n"
   ]
  },
  {
   "cell_type": "code",
   "execution_count": 2,
   "id": "54b3ece4",
   "metadata": {},
   "outputs": [],
   "source": [
    "#variable Definition\n",
    "\n",
    "x= 10\n",
    "x,y = 100,20\n",
    "x,y,z,_ = 1,2,3,4\n",
    "_,x,y,z=2,3,4,5"
   ]
  },
  {
   "cell_type": "code",
   "execution_count": 3,
   "id": "b53568a8",
   "metadata": {},
   "outputs": [
    {
     "name": "stdout",
     "output_type": "stream",
     "text": [
      "111111\n"
     ]
    }
   ],
   "source": [
    "num1='111'\n",
    "num2=2\n",
    "num3 = num1 * num2\n",
    "print(num3)"
   ]
  },
  {
   "cell_type": "code",
   "execution_count": 4,
   "id": "c9729da0",
   "metadata": {},
   "outputs": [
    {
     "data": {
      "text/plain": [
       "'\\n1. Special character are not allowed at the prefix of variable.\\nexample: 123num : not allowed X\\n2. the variable defination should contain any special character or space.\\nexample: Primary Number : not allowed X\\n\\n\\n'"
      ]
     },
     "execution_count": 4,
     "metadata": {},
     "output_type": "execute_result"
    }
   ],
   "source": [
    "Integer_number =100\n",
    "#Rules for variable defination\n",
    "'''\n",
    "1. Special character are not allowed at the prefix of variable.\n",
    "example: 123num : not allowed X\n",
    "2. the variable defination should contain any special character or space.\n",
    "example: Primary Number : not allowed X\n",
    "\n",
    "\n",
    "'''"
   ]
  },
  {
   "cell_type": "code",
   "execution_count": 5,
   "id": "95149697",
   "metadata": {},
   "outputs": [
    {
     "name": "stdout",
     "output_type": "stream",
     "text": [
      "heyy\n",
      "300\n"
     ]
    }
   ],
   "source": [
    "# print Function\n",
    "\n",
    "print('heyy')\n",
    "print(100+200)"
   ]
  },
  {
   "cell_type": "code",
   "execution_count": 6,
   "id": "89d59147",
   "metadata": {},
   "outputs": [
    {
     "name": "stdout",
     "output_type": "stream",
     "text": [
      "ello Welc\n"
     ]
    }
   ],
   "source": [
    "#concept of indexing and slicing\n",
    "\n",
    "str = 'Hello Welcome to the World of Python Programming.'\n",
    "\n",
    "str[3]\n",
    "\n",
    "'''\n",
    "note: \n",
    "string indexing : string[start:stop:step]\n",
    "\n",
    "'''\n",
    "print(str[1:10:1])"
   ]
  },
  {
   "cell_type": "code",
   "execution_count": 7,
   "id": "69a8e386",
   "metadata": {},
   "outputs": [
    {
     "name": "stdout",
     "output_type": "stream",
     "text": [
      "tagahtat\n"
     ]
    }
   ],
   "source": [
    "str = 'tathagat'\n",
    "print(str[::-1])"
   ]
  },
  {
   "cell_type": "code",
   "execution_count": 8,
   "id": "f9813567",
   "metadata": {},
   "outputs": [
    {
     "name": "stdout",
     "output_type": "stream",
     "text": [
      "I SAGETCUT\n"
     ]
    }
   ],
   "source": [
    "str = 'INDIA IS A GREAT COUNTRY'\n",
    "print(str[3:-2:2])"
   ]
  },
  {
   "cell_type": "code",
   "execution_count": 9,
   "id": "c887c6d6",
   "metadata": {},
   "outputs": [
    {
     "name": "stdout",
     "output_type": "stream",
     "text": [
      "RICA NIC\n"
     ]
    }
   ],
   "source": [
    "str = 'AMERICA NICE'\n",
    "print(str[-9:-1: ] )"
   ]
  },
  {
   "cell_type": "code",
   "execution_count": 10,
   "id": "130c7bbe",
   "metadata": {},
   "outputs": [
    {
     "name": "stdout",
     "output_type": "stream",
     "text": [
      " I AM TRUE\n"
     ]
    }
   ],
   "source": [
    "# IF ELSE STATEMENT\n",
    "if True:\n",
    "    print(' I AM TRUE')\n",
    "\n",
    "if False:\n",
    "    print('I AM FALSE')"
   ]
  },
  {
   "cell_type": "code",
   "execution_count": 11,
   "id": "93bec056",
   "metadata": {},
   "outputs": [
    {
     "name": "stdout",
     "output_type": "stream",
     "text": [
      "not satisfy the criteria\n"
     ]
    }
   ],
   "source": [
    "'''\n",
    "Logic\n",
    "if<condition>:\n",
    "    print(\"output1\")\n",
    "else:\n",
    "    print(\"output2\")\n",
    "'''\n",
    "\n",
    "num = 100\n",
    "\n",
    "if num > 100:\n",
    "    print('The number is Satify criteria')\n",
    "else:\n",
    "    print('not satisfy the criteria')"
   ]
  },
  {
   "cell_type": "code",
   "execution_count": 12,
   "id": "75de3d62",
   "metadata": {},
   "outputs": [
    {
     "ename": "KeyboardInterrupt",
     "evalue": "Interrupted by user",
     "output_type": "error",
     "traceback": [
      "\u001b[31m---------------------------------------------------------------------------\u001b[39m",
      "\u001b[31mKeyboardInterrupt\u001b[39m                         Traceback (most recent call last)",
      "\u001b[36mCell\u001b[39m\u001b[36m \u001b[39m\u001b[32mIn[12]\u001b[39m\u001b[32m, line 10\u001b[39m\n\u001b[32m      1\u001b[39m \u001b[38;5;66;03m#guessing the number game\u001b[39;00m\n\u001b[32m      3\u001b[39m \u001b[33;03m'''\u001b[39;00m\n\u001b[32m      4\u001b[39m \u001b[33;03mlogic\u001b[39;00m\n\u001b[32m      5\u001b[39m \u001b[33;03m1.enter the number\u001b[39;00m\n\u001b[32m      6\u001b[39m \u001b[33;03m2.write logic code to guess the number \u001b[39;00m\n\u001b[32m      7\u001b[39m \u001b[33;03m3.output\u001b[39;00m\n\u001b[32m      8\u001b[39m \u001b[33;03m'''\u001b[39;00m\n\u001b[32m---> \u001b[39m\u001b[32m10\u001b[39m number = \u001b[38;5;28mfloat\u001b[39m(\u001b[38;5;28;43minput\u001b[39;49m\u001b[43m(\u001b[49m\u001b[33;43m'\u001b[39;49m\u001b[33;43menter the number between 1 to 3:\u001b[39;49m\u001b[33;43m'\u001b[39;49m\u001b[43m)\u001b[49m)\n\u001b[32m     12\u001b[39m \u001b[38;5;28;01mif\u001b[39;00m number == \u001b[32m1\u001b[39m:\n\u001b[32m     13\u001b[39m     \u001b[38;5;28mprint\u001b[39m(\u001b[33m'\u001b[39m\u001b[33mthe number 1\u001b[39m\u001b[33m'\u001b[39m)\n",
      "\u001b[36mFile \u001b[39m\u001b[32mc:\\DataScience_Analytic\\itv\\Lib\\site-packages\\ipykernel\\kernelbase.py:1275\u001b[39m, in \u001b[36mKernel.raw_input\u001b[39m\u001b[34m(self, prompt)\u001b[39m\n\u001b[32m   1273\u001b[39m     msg = \u001b[33m\"\u001b[39m\u001b[33mraw_input was called, but this frontend does not support input requests.\u001b[39m\u001b[33m\"\u001b[39m\n\u001b[32m   1274\u001b[39m     \u001b[38;5;28;01mraise\u001b[39;00m StdinNotImplementedError(msg)\n\u001b[32m-> \u001b[39m\u001b[32m1275\u001b[39m \u001b[38;5;28;01mreturn\u001b[39;00m \u001b[38;5;28;43mself\u001b[39;49m\u001b[43m.\u001b[49m\u001b[43m_input_request\u001b[49m\u001b[43m(\u001b[49m\n\u001b[32m   1276\u001b[39m \u001b[43m    \u001b[49m\u001b[38;5;28;43mstr\u001b[39;49m\u001b[43m(\u001b[49m\u001b[43mprompt\u001b[49m\u001b[43m)\u001b[49m\u001b[43m,\u001b[49m\n\u001b[32m   1277\u001b[39m \u001b[43m    \u001b[49m\u001b[38;5;28;43mself\u001b[39;49m\u001b[43m.\u001b[49m\u001b[43m_parent_ident\u001b[49m\u001b[43m[\u001b[49m\u001b[33;43m\"\u001b[39;49m\u001b[33;43mshell\u001b[39;49m\u001b[33;43m\"\u001b[39;49m\u001b[43m]\u001b[49m\u001b[43m,\u001b[49m\n\u001b[32m   1278\u001b[39m \u001b[43m    \u001b[49m\u001b[38;5;28;43mself\u001b[39;49m\u001b[43m.\u001b[49m\u001b[43mget_parent\u001b[49m\u001b[43m(\u001b[49m\u001b[33;43m\"\u001b[39;49m\u001b[33;43mshell\u001b[39;49m\u001b[33;43m\"\u001b[39;49m\u001b[43m)\u001b[49m\u001b[43m,\u001b[49m\n\u001b[32m   1279\u001b[39m \u001b[43m    \u001b[49m\u001b[43mpassword\u001b[49m\u001b[43m=\u001b[49m\u001b[38;5;28;43;01mFalse\u001b[39;49;00m\u001b[43m,\u001b[49m\n\u001b[32m   1280\u001b[39m \u001b[43m\u001b[49m\u001b[43m)\u001b[49m\n",
      "\u001b[36mFile \u001b[39m\u001b[32mc:\\DataScience_Analytic\\itv\\Lib\\site-packages\\ipykernel\\kernelbase.py:1320\u001b[39m, in \u001b[36mKernel._input_request\u001b[39m\u001b[34m(self, prompt, ident, parent, password)\u001b[39m\n\u001b[32m   1317\u001b[39m \u001b[38;5;28;01mexcept\u001b[39;00m \u001b[38;5;167;01mKeyboardInterrupt\u001b[39;00m:\n\u001b[32m   1318\u001b[39m     \u001b[38;5;66;03m# re-raise KeyboardInterrupt, to truncate traceback\u001b[39;00m\n\u001b[32m   1319\u001b[39m     msg = \u001b[33m\"\u001b[39m\u001b[33mInterrupted by user\u001b[39m\u001b[33m\"\u001b[39m\n\u001b[32m-> \u001b[39m\u001b[32m1320\u001b[39m     \u001b[38;5;28;01mraise\u001b[39;00m \u001b[38;5;167;01mKeyboardInterrupt\u001b[39;00m(msg) \u001b[38;5;28;01mfrom\u001b[39;00m\u001b[38;5;250m \u001b[39m\u001b[38;5;28;01mNone\u001b[39;00m\n\u001b[32m   1321\u001b[39m \u001b[38;5;28;01mexcept\u001b[39;00m \u001b[38;5;167;01mException\u001b[39;00m:\n\u001b[32m   1322\u001b[39m     \u001b[38;5;28mself\u001b[39m.log.warning(\u001b[33m\"\u001b[39m\u001b[33mInvalid Message:\u001b[39m\u001b[33m\"\u001b[39m, exc_info=\u001b[38;5;28;01mTrue\u001b[39;00m)\n",
      "\u001b[31mKeyboardInterrupt\u001b[39m: Interrupted by user"
     ]
    }
   ],
   "source": [
    "#guessing the number game\n",
    "\n",
    "'''\n",
    "logic\n",
    "1.enter the number\n",
    "2.write logic code to guess the number \n",
    "3.output\n",
    "'''\n",
    "\n",
    "number = float(input('enter the number between 1 to 3:'))\n",
    "\n",
    "if number == 1:\n",
    "    print('the number 1')\n",
    "if number == 2:\n",
    "    print('the number 2')\n",
    "if number == 3:\n",
    "    print('the number 3')"
   ]
  },
  {
   "cell_type": "code",
   "execution_count": null,
   "id": "0d238b56",
   "metadata": {},
   "outputs": [
    {
     "name": "stdout",
     "output_type": "stream",
     "text": [
      "No, it's not a palindrome\n"
     ]
    }
   ],
   "source": [
    "#whether given string is palindrome or not\n",
    "'''\n",
    "1.ask user to enter the string\n",
    "2.reverse the sring \n",
    "3.use if else logic\n",
    "'''\n",
    "\n",
    "# Simple palindrome check in Python\n",
    "\n",
    "text = input(\"Enter a string: \")\n",
    "\n",
    "if text == text[::-1]: # comparison operator (==)\n",
    "    print(\"Yes, it's a palindrome\")\n",
    "else:\n",
    "    print(\"No, it's not a palindrome\")\n"
   ]
  },
  {
   "cell_type": "code",
   "execution_count": null,
   "id": "5e5b42c8",
   "metadata": {},
   "outputs": [
    {
     "ename": "ValueError",
     "evalue": "invalid literal for int() with base 10: ''",
     "output_type": "error",
     "traceback": [
      "\u001b[31m---------------------------------------------------------------------------\u001b[39m",
      "\u001b[31mValueError\u001b[39m                                Traceback (most recent call last)",
      "\u001b[36mCell\u001b[39m\u001b[36m \u001b[39m\u001b[32mIn[103]\u001b[39m\u001b[32m, line 3\u001b[39m\n\u001b[32m      1\u001b[39m \u001b[38;5;66;03m#EXAMPLE:STUDENTS MARKS\u001b[39;00m\n\u001b[32m----> \u001b[39m\u001b[32m3\u001b[39m marks = \u001b[38;5;28;43mint\u001b[39;49m\u001b[43m(\u001b[49m\u001b[38;5;28;43minput\u001b[39;49m\u001b[43m(\u001b[49m\u001b[33;43m\"\u001b[39;49m\u001b[33;43mEnter student\u001b[39;49m\u001b[33;43m'\u001b[39;49m\u001b[33;43ms marks: \u001b[39;49m\u001b[33;43m\"\u001b[39;49m\u001b[43m)\u001b[49m\u001b[43m)\u001b[49m\n\u001b[32m      5\u001b[39m \u001b[38;5;28;01mif\u001b[39;00m marks >= \u001b[32m90\u001b[39m:\n\u001b[32m      6\u001b[39m     \u001b[38;5;28mprint\u001b[39m(\u001b[33m\"\u001b[39m\u001b[33mExcellent\u001b[39m\u001b[33m\"\u001b[39m)\n",
      "\u001b[31mValueError\u001b[39m: invalid literal for int() with base 10: ''"
     ]
    }
   ],
   "source": [
    "#EXAMPLE:STUDENTS MARKS\n",
    "\n",
    "marks = int(input(\"Enter student's marks: \"))\n",
    "\n",
    "if marks >= 90:\n",
    "    print(\"Excellent\")\n",
    "elif 80 <= marks < 90:\n",
    "    print(\"Good\")\n",
    "elif 60 <= marks <= 70:\n",
    "    print(\"Moderate\")\n",
    "else:\n",
    "    print(\"Average\")\n"
   ]
  },
  {
   "cell_type": "code",
   "execution_count": null,
   "id": "799d2aa1",
   "metadata": {},
   "outputs": [
    {
     "name": "stdout",
     "output_type": "stream",
     "text": [
      "the volume of cylinder is 9.42 mm^3\n"
     ]
    }
   ],
   "source": [
    "# Example : write a program to print volume of cylinder\n",
    "'''\n",
    "volume = Area * Height\n",
    "step 1: ask user to enter the diameter of cylinder\n",
    "step 2: ask user to enter the height of cylinder\n",
    "step 3: volume = area * height\n",
    "step 4: print the desired output \n",
    "'''\n",
    "PI=3.14\n",
    "diameter = float(input(\"enter the diameter of cylinder:\"))\n",
    "height = float(input(\"enter the height of cylinder\"))\n",
    "volume = (PI/4)*(diameter**2) * height\n",
    "\n",
    "print(f'the volume of cylinder is {volume} mm^3')\n"
   ]
  },
  {
   "cell_type": "code",
   "execution_count": null,
   "id": "7563e67f",
   "metadata": {},
   "outputs": [
    {
     "name": "stdout",
     "output_type": "stream",
     "text": [
      "0\n",
      "1\n",
      "2\n",
      "3\n",
      "4\n",
      "5\n",
      "6\n",
      "7\n",
      "8\n",
      "9\n"
     ]
    }
   ],
   "source": [
    "#FOR LOOP\n",
    "for i in range(0,10):\n",
    "    print(i)"
   ]
  },
  {
   "cell_type": "code",
   "execution_count": null,
   "id": "3c682d8f",
   "metadata": {},
   "outputs": [
    {
     "name": "stdout",
     "output_type": "stream",
     "text": [
      "0\n",
      "2\n",
      "4\n",
      "6\n",
      "8\n"
     ]
    }
   ],
   "source": [
    "# EVEN NUMBER \n",
    "for i in range(0,10,2):\n",
    "    print(i)"
   ]
  },
  {
   "cell_type": "code",
   "execution_count": null,
   "id": "65b33172",
   "metadata": {},
   "outputs": [
    {
     "name": "stdout",
     "output_type": "stream",
     "text": [
      "0 1 2 3 4 5 6 7 8 9 "
     ]
    }
   ],
   "source": [
    "for i in range(0,10):\n",
    "    print(i,end = ' ')"
   ]
  },
  {
   "cell_type": "code",
   "execution_count": null,
   "id": "f78939fb",
   "metadata": {},
   "outputs": [
    {
     "name": "stdout",
     "output_type": "stream",
     "text": [
      "\n",
      "#\n",
      "##\n",
      "###\n",
      "####\n",
      "#####\n",
      "######\n",
      "#######\n",
      "########\n",
      "#########\n"
     ]
    }
   ],
   "source": [
    "for i in range (10):\n",
    "    print('#'*i)"
   ]
  },
  {
   "cell_type": "code",
   "execution_count": null,
   "id": "1c8287b6",
   "metadata": {},
   "outputs": [
    {
     "name": "stdout",
     "output_type": "stream",
     "text": [
      "0\n",
      "1\n",
      "2\n",
      "3\n",
      "4\n",
      "5\n",
      "6\n"
     ]
    }
   ],
   "source": [
    "for i in range(0,10):\n",
    "    print(i)\n",
    "    if i == 6:\n",
    "        break"
   ]
  },
  {
   "cell_type": "code",
   "execution_count": null,
   "id": "31cff289",
   "metadata": {},
   "outputs": [
    {
     "name": "stdout",
     "output_type": "stream",
     "text": [
      "0\n",
      "1\n",
      "2\n",
      "3\n",
      "4\n",
      "5\n",
      "6\n",
      "7\n",
      "8\n",
      "9\n"
     ]
    }
   ],
   "source": [
    "for i in range(0,10):\n",
    "    print(i)\n",
    "    if i == 6:\n",
    "        pass"
   ]
  },
  {
   "cell_type": "code",
   "execution_count": null,
   "id": "5b582156",
   "metadata": {},
   "outputs": [],
   "source": [
    "#define function : test\n",
    "\n",
    "def test():\n",
    "    pass \n",
    "\n",
    "test()"
   ]
  },
  {
   "cell_type": "code",
   "execution_count": null,
   "id": "736db9f6",
   "metadata": {},
   "outputs": [
    {
     "name": "stdout",
     "output_type": "stream",
     "text": [
      "the given string is a palindrome\n"
     ]
    }
   ],
   "source": [
    "#examole :\n",
    "#palindrome function definition\n",
    "def Palindrom():\n",
    "    text1 = input('enter the string:')\n",
    "    text2 = text1[::-1]\n",
    "\n",
    "    if text1 == text2:\n",
    "        print(\"the given string is a palindrome\")\n",
    "    else:\n",
    "        print(\"not a palindrome\")\n",
    "        \n",
    "Palindrom() #function calling"
   ]
  },
  {
   "cell_type": "code",
   "execution_count": null,
   "id": "fa541f36",
   "metadata": {},
   "outputs": [
    {
     "name": "stdout",
     "output_type": "stream",
     "text": [
      "the answer is 300\n"
     ]
    }
   ],
   "source": [
    "#addition of two number \n",
    "def compute(num1,num2):\n",
    "    num3 = num1 +num2\n",
    "    return num3\n",
    "ans = compute(100,200) # function calling\n",
    "\n",
    "print(f'the answer is {ans}')\n"
   ]
  },
  {
   "cell_type": "code",
   "execution_count": null,
   "id": "07d6961a",
   "metadata": {},
   "outputs": [
    {
     "name": "stdout",
     "output_type": "stream",
     "text": [
      "[1, 2, 3, 100.1, 200.3, (3+4j), 'hello world', True, [1, 2, 3], 100]\n",
      "[0, 1, 2, 3, 100.1, 200.3, (3+4j), 'hello world', True, [1, 2, 3], 100]\n"
     ]
    }
   ],
   "source": [
    "# Data structure of python programming\n",
    "'''\n",
    "1.list\n",
    "2.tuple\n",
    "3.dictionary\n",
    "4.sets\n",
    "'''\n",
    "\n",
    "#List\n",
    "\n",
    "a= [1,2,3,100.1,200.3,3+4j,'hello world',True,[1,2,3]]\n",
    "a.append(100)\n",
    "print(a)\n",
    "\n",
    "a.insert(0,0)\n",
    "print(a)\n"
   ]
  },
  {
   "cell_type": "code",
   "execution_count": 19,
   "id": "ba5792a3",
   "metadata": {},
   "outputs": [
    {
     "name": "stdout",
     "output_type": "stream",
     "text": [
      "[0, 1, 2, 3, 100.1, 200.3, (3+4j), 'hello world', True, [1, 2, 3]]\n"
     ]
    }
   ],
   "source": [
    "\n",
    "a.pop()\n",
    "print(a)"
   ]
  },
  {
   "cell_type": "code",
   "execution_count": 20,
   "id": "453227b2",
   "metadata": {},
   "outputs": [
    {
     "name": "stdout",
     "output_type": "stream",
     "text": [
      "[1, 2, 3, 100.1, 200.3, (3+4j), 'hello world', True, [1, 2, 3]]\n"
     ]
    }
   ],
   "source": [
    "a.remove(0)\n",
    "print(a)"
   ]
  },
  {
   "cell_type": "code",
   "execution_count": null,
   "id": "c8ad7244",
   "metadata": {},
   "outputs": [
    {
     "name": "stdout",
     "output_type": "stream",
     "text": [
      "2\n"
     ]
    }
   ],
   "source": [
    "'''\n",
    "any function defined inside a class called as method \n",
    "Example: in a list a = [100,200,300]\n",
    "a.append(400)\n",
    "here,append() is function, but this function is defined inside a class list so it is called method \n",
    "list is mutable in nature  \n",
    "'''\n",
    "\n",
    "print(a.count(1))"
   ]
  },
  {
   "cell_type": "code",
   "execution_count": 23,
   "id": "def77111",
   "metadata": {},
   "outputs": [
    {
     "name": "stdout",
     "output_type": "stream",
     "text": [
      "[1000, 2000, 3000, 5000, 6000]\n"
     ]
    }
   ],
   "source": [
    "lst = [1000,5000,6000,2000,3000]\n",
    "lst.sort()\n",
    "print(lst)"
   ]
  },
  {
   "cell_type": "code",
   "execution_count": 24,
   "id": "8271d905",
   "metadata": {},
   "outputs": [
    {
     "name": "stdout",
     "output_type": "stream",
     "text": [
      "[6000, 5000, 3000, 2000, 1000]\n"
     ]
    }
   ],
   "source": [
    "lst.reverse()\n",
    "print(lst)"
   ]
  },
  {
   "cell_type": "code",
   "execution_count": 25,
   "id": "43875962",
   "metadata": {},
   "outputs": [
    {
     "name": "stdout",
     "output_type": "stream",
     "text": [
      "300\n"
     ]
    }
   ],
   "source": [
    "lst=[100,200,[300],400]\n",
    "print(lst[2][0])"
   ]
  },
  {
   "cell_type": "code",
   "execution_count": 27,
   "id": "a198ce89",
   "metadata": {},
   "outputs": [
    {
     "name": "stdout",
     "output_type": "stream",
     "text": [
      "5\n",
      "1000\n"
     ]
    }
   ],
   "source": [
    "lst=[1,[2,3,4,5,[6,7,[10,[1000],110,],200,300],10],1]\n",
    "print(lst[1][3])\n",
    "print(lst[1][4][2][1][0])"
   ]
  },
  {
   "cell_type": "code",
   "execution_count": 28,
   "id": "f427848d",
   "metadata": {},
   "outputs": [
    {
     "name": "stdout",
     "output_type": "stream",
     "text": [
      "300\n",
      "300\n"
     ]
    }
   ],
   "source": [
    "print(lst[-2][-2][-1])\n",
    "print(lst[1][4][4])"
   ]
  },
  {
   "cell_type": "code",
   "execution_count": 39,
   "id": "59e9ec2e",
   "metadata": {},
   "outputs": [
    {
     "name": "stdout",
     "output_type": "stream",
     "text": [
      "8\n",
      "[4, 5, [6], [7]]\n",
      "8\n"
     ]
    }
   ],
   "source": [
    "lst=[100,200,300,[1,2,[3,4,5,[6],[7],[8,[9],1],1],1],1]\n",
    "print(lst[3][2][5][0])\n",
    "print(lst[3][2][1:5])\n",
    "print(lst[-2][-2][-2][-3])"
   ]
  },
  {
   "cell_type": "code",
   "execution_count": 40,
   "id": "3e3ab259",
   "metadata": {},
   "outputs": [
    {
     "data": {
      "text/plain": [
       "1"
      ]
     },
     "execution_count": 40,
     "metadata": {},
     "output_type": "execute_result"
    }
   ],
   "source": [
    "#tuple\n",
    "\n",
    "b=(100,200,'hello wprld',True,False,(123,2,5))\n",
    "b.count(100)"
   ]
  },
  {
   "cell_type": "code",
   "execution_count": 43,
   "id": "88c576d8",
   "metadata": {},
   "outputs": [
    {
     "name": "stdout",
     "output_type": "stream",
     "text": [
      "even number [10, 30, 50]\n",
      "odd number [21, 41]\n"
     ]
    }
   ],
   "source": [
    "#example\n",
    "lst = [10,21,30,41,50]\n",
    "even = []\n",
    "odd = []\n",
    "\n",
    "for i in lst:\n",
    "    if i%2 == 0:\n",
    "        even.append(i)\n",
    "    else:\n",
    "        odd.append(i)\n",
    "print('even number',even)\n",
    "print('odd number',odd)\n",
    "    "
   ]
  },
  {
   "cell_type": "code",
   "execution_count": 2,
   "id": "258966d0",
   "metadata": {},
   "outputs": [
    {
     "name": "stdout",
     "output_type": "stream",
     "text": [
      "(50, 60)\n"
     ]
    }
   ],
   "source": [
    "tup = (1,2,3,[4,5,6,7],[10,20,(30,40,(50,60,(70)))])\n",
    "\n",
    "print(tup[4][2][2][0:2])"
   ]
  },
  {
   "cell_type": "code",
   "execution_count": 3,
   "id": "1dd8cef5",
   "metadata": {},
   "outputs": [
    {
     "name": "stdout",
     "output_type": "stream",
     "text": [
      "<class 'tuple'>\n",
      "<class 'list'>\n",
      "[10, 20, 30, 40, 50]\n"
     ]
    }
   ],
   "source": [
    "#example\n",
    "\n",
    "tup = (10,20,30,40)\n",
    "print(type(tup))\n",
    "\n",
    "#typecase\n",
    "tup = list(tup)\n",
    "\n",
    "print(type(tup))\n",
    "\n",
    "tup.append(50)\n",
    "\n",
    "\n",
    "print(tup)"
   ]
  },
  {
   "cell_type": "code",
   "execution_count": 4,
   "id": "4d1cde0c",
   "metadata": {},
   "outputs": [
    {
     "name": "stdout",
     "output_type": "stream",
     "text": [
      "dict_keys(['1'])\n",
      "dict_values([10])\n"
     ]
    }
   ],
   "source": [
    "#dictionary\n",
    "\n",
    "#dict = {'key1':value}\n",
    "\n",
    "d={'1':10}  # 1 is key and 10 is value\n",
    "\n",
    "print(d.keys())\n",
    "print(d.values())"
   ]
  },
  {
   "cell_type": "code",
   "execution_count": 5,
   "id": "0df2464d",
   "metadata": {},
   "outputs": [
    {
     "name": "stdout",
     "output_type": "stream",
     "text": [
      "1000\n"
     ]
    }
   ],
   "source": [
    "d = {'india':1000,'usa':2000,'uk':3000}\n",
    "print(d['india'])"
   ]
  },
  {
   "cell_type": "code",
   "execution_count": 6,
   "id": "db01d19a",
   "metadata": {},
   "outputs": [
    {
     "name": "stdout",
     "output_type": "stream",
     "text": [
      "2000\n"
     ]
    }
   ],
   "source": [
    "d = {'india':[1000,2000,3000,4000],'usa':2000,'uk':3000}\n",
    "print(d['india'][1])"
   ]
  },
  {
   "cell_type": "code",
   "execution_count": 7,
   "id": "3368c6ea",
   "metadata": {},
   "outputs": [
    {
     "name": "stdout",
     "output_type": "stream",
     "text": [
      "5\n"
     ]
    }
   ],
   "source": [
    "d = {'india':[1,2,3,[4,[5]]],'usa':[100,200,300]}\n",
    "print(d['india'][3][1][0])"
   ]
  },
  {
   "cell_type": "code",
   "execution_count": 8,
   "id": "692f3f46",
   "metadata": {},
   "outputs": [
    {
     "data": {
      "text/plain": [
       "{'usa': 1000, 'india': 2000}"
      ]
     },
     "execution_count": 8,
     "metadata": {},
     "output_type": "execute_result"
    }
   ],
   "source": [
    "#example: type cast d to dictinary\n",
    "d = [('usa',1000),('india',2000)]\n",
    "d = dict(d)\n",
    "d"
   ]
  },
  {
   "cell_type": "code",
   "execution_count": 13,
   "id": "dab8069c",
   "metadata": {},
   "outputs": [
    {
     "data": {
      "text/plain": [
       "{'usa': 1000, 'uk': 3000}"
      ]
     },
     "execution_count": 13,
     "metadata": {},
     "output_type": "execute_result"
    }
   ],
   "source": [
    "#insert value in dict\n",
    "d['uk']=3000\n",
    "d"
   ]
  },
  {
   "cell_type": "code",
   "execution_count": 15,
   "id": "9962201b",
   "metadata": {},
   "outputs": [
    {
     "data": {
      "text/plain": [
       "{'usa': 1000}"
      ]
     },
     "execution_count": 15,
     "metadata": {},
     "output_type": "execute_result"
    }
   ],
   "source": [
    "#del is keyword for delete key value in dictionary \n",
    "del d['uk']\n",
    "d"
   ]
  },
  {
   "cell_type": "code",
   "execution_count": 16,
   "id": "83ddfefe",
   "metadata": {},
   "outputs": [
    {
     "data": {
      "text/plain": [
       "{'usa': 1000, 'india': 1000}"
      ]
     },
     "execution_count": 16,
     "metadata": {},
     "output_type": "execute_result"
    }
   ],
   "source": [
    "#insert value in dict\n",
    "d['india']=1000\n",
    "d"
   ]
  },
  {
   "cell_type": "code",
   "execution_count": 18,
   "id": "e5fc5e50",
   "metadata": {},
   "outputs": [
    {
     "name": "stdout",
     "output_type": "stream",
     "text": [
      "<class 'set'>\n",
      "{50, 20, 40, 10, 30}\n"
     ]
    }
   ],
   "source": [
    "#set\n",
    "\n",
    "d = {10,20,30,40}\n",
    "print(type(d))\n",
    "\n",
    "d={10,10,20,30,40,50}\n",
    "print(d)"
   ]
  },
  {
   "cell_type": "code",
   "execution_count": 21,
   "id": "83682acb",
   "metadata": {},
   "outputs": [
    {
     "name": "stdout",
     "output_type": "stream",
     "text": [
      "HELLO WELCOME TO THE WORLD OF PYTHON PROGRAMMING\n",
      "hello welcome to the world of python programming\n",
      "Hello welcome to the world of python programming\n",
      "False\n",
      "False\n",
      "True\n"
     ]
    }
   ],
   "source": [
    "# string\n",
    "\n",
    "str = 'hello welcome to the world of python programming'\n",
    "\n",
    "print(str.upper())\n",
    "print(str.lower())\n",
    "print(str.capitalize())\n",
    "print(str.isalnum())\n",
    "print(str.isalpha())\n",
    "print(str.islower())\n",
    "\n"
   ]
  },
  {
   "cell_type": "code",
   "execution_count": 23,
   "id": "8e1f991a",
   "metadata": {},
   "outputs": [
    {
     "name": "stdout",
     "output_type": "stream",
     "text": [
      "['HELLO', 'WORLD', 'PYTHON', 'PROGRAMMING']\n",
      "['of']\n"
     ]
    }
   ],
   "source": [
    "#Example\n",
    "str = ['hello','world','of','python','programming']\n",
    "\n",
    "bucket=[]\n",
    "bucket1=[]\n",
    "for i in str:\n",
    "    if len(i) > 4:\n",
    "        bucket.append(i.upper())\n",
    "    else:\n",
    "        bucket1.append(i)\n",
    "        \n",
    "print(bucket)\n",
    "print(bucket1)    \n",
    "    "
   ]
  },
  {
   "cell_type": "code",
   "execution_count": 25,
   "id": "929e46ff",
   "metadata": {},
   "outputs": [
    {
     "name": "stdout",
     "output_type": "stream",
     "text": [
      "[2, 4, 6, 8, 10, 12, 14, 16, 18, 20]\n"
     ]
    }
   ],
   "source": [
    "# write a even number till 20  in a list\n",
    "num = []\n",
    "def square():\n",
    "    for i in range(1,21):\n",
    "        if i%2 == 0:\n",
    "            num.append(i)\n",
    "    return num\n",
    "num = square()\n",
    "print(num)"
   ]
  },
  {
   "cell_type": "code",
   "execution_count": null,
   "id": "e51a8bdd",
   "metadata": {},
   "outputs": [
    {
     "name": "stdout",
     "output_type": "stream",
     "text": [
      "300\n"
     ]
    }
   ],
   "source": [
    "# function definition : UDA (user define function)\n",
    "#1. user defined function without parameter\n",
    "\n",
    "def add():\n",
    "    num1=100\n",
    "    num2=200\n",
    "    \n",
    "    return num1 + num2  # retrn an expression\n",
    "print (add())   #function calling \n",
    "\n"
   ]
  },
  {
   "cell_type": "code",
   "execution_count": 2,
   "id": "14d92be1",
   "metadata": {},
   "outputs": [
    {
     "name": "stdout",
     "output_type": "stream",
     "text": [
      "50\n"
     ]
    }
   ],
   "source": [
    "# 2. user defined function with parameter\n",
    "\n",
    "def add(num1,num2):     # functiom definition with parameter\n",
    "    num3 = num1 + num2  #expression\n",
    "    return num3          # return expression value\n",
    "ans = add(20,30)   #function calling\n",
    "print(ans)"
   ]
  },
  {
   "cell_type": "code",
   "execution_count": 3,
   "id": "a38f1391",
   "metadata": {},
   "outputs": [
    {
     "name": "stdout",
     "output_type": "stream",
     "text": [
      "the answer is: 50\n"
     ]
    }
   ],
   "source": [
    "#3. user defined function (udf) with parameters\n",
    "\n",
    "def add(num1,num2):\n",
    "    num3 = num1 +num2\n",
    "    print('the answer is:',num3)\n",
    "    \n",
    "add(20,30)"
   ]
  },
  {
   "cell_type": "code",
   "execution_count": 7,
   "id": "737487f9",
   "metadata": {},
   "outputs": [
    {
     "name": "stdout",
     "output_type": "stream",
     "text": [
      "invalid\n"
     ]
    }
   ],
   "source": [
    "#4 . create calculator using concept of UDF\n",
    "number1 = float(input(\"enter the first number\"))\n",
    "number2 = float(input(\"enter the second number\"))\n",
    "choice = input(\"enter the choice : 1/2/3/4\")\n",
    "\n",
    "def add(number1,number2):\n",
    "    number3 = number1 + number2\n",
    "    return number3\n",
    "def sub(number1,number2):\n",
    "    number3 = number1 - number2\n",
    "    return number3\n",
    "def mul(number1,number2):\n",
    "    number3 = number1 * number2\n",
    "    return number3\n",
    "def div(number1,number2):\n",
    "    number3 = number1 / number2\n",
    "    return number3\n",
    "\n",
    "\n",
    "if choice == '1':\n",
    "    ans = add(number1,number2)\n",
    "    print(f'the addition of two number {number1} and {number2} is {ans}')\n",
    "    \n",
    "\n",
    "elif choice == '2':\n",
    "    ans = sub(number1,number2)\n",
    "    print(f'the sub of two number {number1} and {number2} is {ans}')\n",
    "    \n",
    "\n",
    "elif choice == '3':\n",
    "    ans = mul(number1,number2)\n",
    "    print(f'the mul of two number {number1} and {number2} is {ans}')\n",
    "\n",
    "\n",
    "elif choice == '4':\n",
    "    ans = div(number1,number2)\n",
    "    print(f'the div of two number {number1} and {number2} is {ans}')\n",
    "    \n",
    "else:\n",
    "    print(\"invalid\")\n",
    "\n"
   ]
  },
  {
   "cell_type": "code",
   "execution_count": 9,
   "id": "b42184d6",
   "metadata": {},
   "outputs": [
    {
     "name": "stdout",
     "output_type": "stream",
     "text": [
      "25\n",
      "[1, 3, 5, 7, 9]\n"
     ]
    }
   ],
   "source": [
    "def compute():\n",
    "    lst=[ ]\n",
    "    sum = 0\n",
    "    for i in range(1,11):\n",
    "        if i%2 != 0:\n",
    "            lst.append(i)\n",
    "            sum = sum + i\n",
    "    return sum,lst\n",
    "\n",
    "sum,lst = compute()\n",
    "print(sum)\n",
    "print(lst)\n",
    "            \n",
    "        "
   ]
  },
  {
   "cell_type": "code",
   "execution_count": null,
   "id": "fbdd5e7b",
   "metadata": {},
   "outputs": [
    {
     "name": "stdout",
     "output_type": "stream",
     "text": [
      "100\n"
     ]
    }
   ],
   "source": [
    "num = 100 # variable definition\n",
    "def test():   # function definition\n",
    "    global num # global variable definition \n",
    "    print(num) \n",
    "test() # function calling"
   ]
  },
  {
   "cell_type": "code",
   "execution_count": 7,
   "id": "184d85ff",
   "metadata": {},
   "outputs": [
    {
     "name": "stdout",
     "output_type": "stream",
     "text": [
      "pragya\n",
      "PARTH\n"
     ]
    }
   ],
   "source": [
    "class Employee: \n",
    "    def __init__(self,Name,Age,Position):\n",
    "        self.Name = Name\n",
    "        self.Age = Age\n",
    "        self.Position = Position\n",
    "\n",
    "    def details(self):\n",
    "        print(f'name:{self.name}','age:{self.age}','position:{self.position}')\n",
    "\n",
    "class Manager(Employee):\n",
    "    def __init__(self, Name, Age, Position, Department):\n",
    "        super().__init__(Name, Age, Position)\n",
    "        self.department = Department\n",
    "\n",
    "    def details(self):\n",
    "        print(f'name:{self.Name}','age:{self.Age}','position:{self.Position}')\n",
    "        print(f'Department:{self.Department}')\n",
    "\n",
    "\n",
    "emp1 = Employee(\"pragya\",19,\"HR\")\n",
    "emp2 = Manager(\"PARTH\",21,\"IT\",\"DSDA\")\n",
    "\n",
    "print(emp1.Name)\n",
    "print(emp2.Name)"
   ]
  },
  {
   "cell_type": "code",
   "execution_count": null,
   "id": "2e7f4f75",
   "metadata": {},
   "outputs": [],
   "source": []
  }
 ],
 "metadata": {
  "kernelspec": {
   "display_name": "Python 3",
   "language": "python",
   "name": "python3"
  },
  "language_info": {
   "codemirror_mode": {
    "name": "ipython",
    "version": 3
   },
   "file_extension": ".py",
   "mimetype": "text/x-python",
   "name": "python",
   "nbconvert_exporter": "python",
   "pygments_lexer": "ipython3",
   "version": "3.12.11"
  }
 },
 "nbformat": 4,
 "nbformat_minor": 5
}
