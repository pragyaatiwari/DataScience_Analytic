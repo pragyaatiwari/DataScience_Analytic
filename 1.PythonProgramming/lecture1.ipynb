{
 "cells": [
  {
   "cell_type": "code",
   "execution_count": 1,
   "id": "bcb2b52b",
   "metadata": {},
   "outputs": [
    {
     "name": "stdout",
     "output_type": "stream",
     "text": [
      "<class 'int'>\n",
      "<class 'float'>\n",
      "<class 'complex'>\n"
     ]
    }
   ],
   "source": [
    "#single line comment \n",
    "\n",
    "#data types in python programming\n",
    "''' \n",
    "1. int\n",
    "2.float\n",
    "3.complex\n",
    "4.string\n",
    "5.boolean\n",
    "6.list\n",
    "7.boolean\n",
    "8.tuple\n",
    "9.dict\n",
    "10.class : custom data type\n",
    "\n",
    "'''\n",
    "number = 100\n",
    "number1 = 23.523\n",
    "number2 = 100 + 2j\n",
    "\n",
    "print(type(number))  # this will gives the datatype of number \n",
    "print(type(number1))  # this will gives the datatype of number \n",
    "print(type(number2))  # this will gives the datatype of number \n",
    "\n",
    "\n"
   ]
  },
  {
   "cell_type": "code",
   "execution_count": 2,
   "id": "54b3ece4",
   "metadata": {},
   "outputs": [],
   "source": [
    "#variable Definition\n",
    "\n",
    "x= 10\n",
    "x,y = 100,20\n",
    "x,y,z,_ = 1,2,3,4\n",
    "_,x,y,z=2,3,4,5"
   ]
  },
  {
   "cell_type": "code",
   "execution_count": 3,
   "id": "b53568a8",
   "metadata": {},
   "outputs": [
    {
     "name": "stdout",
     "output_type": "stream",
     "text": [
      "111111\n"
     ]
    }
   ],
   "source": [
    "num1='111'\n",
    "num2=2\n",
    "num3 = num1 * num2\n",
    "print(num3)"
   ]
  },
  {
   "cell_type": "code",
   "execution_count": 4,
   "id": "c9729da0",
   "metadata": {},
   "outputs": [
    {
     "data": {
      "text/plain": [
       "'\\n1. Special character are not allowed at the prefix of variable.\\nexample: 123num : not allowed X\\n2. the variable defination should contain any special character or space.\\nexample: Primary Number : not allowed X\\n\\n\\n'"
      ]
     },
     "execution_count": 4,
     "metadata": {},
     "output_type": "execute_result"
    }
   ],
   "source": [
    "Integer_number =100\n",
    "#Rules for variable defination\n",
    "'''\n",
    "1. Special character are not allowed at the prefix of variable.\n",
    "example: 123num : not allowed X\n",
    "2. the variable defination should contain any special character or space.\n",
    "example: Primary Number : not allowed X\n",
    "\n",
    "\n",
    "'''"
   ]
  },
  {
   "cell_type": "code",
   "execution_count": 5,
   "id": "95149697",
   "metadata": {},
   "outputs": [
    {
     "name": "stdout",
     "output_type": "stream",
     "text": [
      "heyy\n",
      "300\n"
     ]
    }
   ],
   "source": [
    "# print Function\n",
    "\n",
    "print('heyy')\n",
    "print(100+200)"
   ]
  },
  {
   "cell_type": "code",
   "execution_count": 6,
   "id": "89d59147",
   "metadata": {},
   "outputs": [
    {
     "name": "stdout",
     "output_type": "stream",
     "text": [
      "ello Welc\n"
     ]
    }
   ],
   "source": [
    "#concept of indexing and slicing\n",
    "\n",
    "str = 'Hello Welcome to the World of Python Programming.'\n",
    "\n",
    "str[3]\n",
    "\n",
    "'''\n",
    "note: \n",
    "string indexing : string[start:stop:step]\n",
    "\n",
    "'''\n",
    "print(str[1:10:1])"
   ]
  },
  {
   "cell_type": "code",
   "execution_count": 7,
   "id": "69a8e386",
   "metadata": {},
   "outputs": [
    {
     "name": "stdout",
     "output_type": "stream",
     "text": [
      "tagahtat\n"
     ]
    }
   ],
   "source": [
    "str = 'tathagat'\n",
    "print(str[::-1])"
   ]
  },
  {
   "cell_type": "code",
   "execution_count": 8,
   "id": "f9813567",
   "metadata": {},
   "outputs": [
    {
     "name": "stdout",
     "output_type": "stream",
     "text": [
      "I SAGETCUT\n"
     ]
    }
   ],
   "source": [
    "str = 'INDIA IS A GREAT COUNTRY'\n",
    "print(str[3:-2:2])"
   ]
  },
  {
   "cell_type": "code",
   "execution_count": 9,
   "id": "c887c6d6",
   "metadata": {},
   "outputs": [
    {
     "name": "stdout",
     "output_type": "stream",
     "text": [
      "RICA NIC\n"
     ]
    }
   ],
   "source": [
    "str = 'AMERICA NICE'\n",
    "print(str[-9:-1: ] )"
   ]
  },
  {
   "cell_type": "code",
   "execution_count": 10,
   "id": "130c7bbe",
   "metadata": {},
   "outputs": [
    {
     "name": "stdout",
     "output_type": "stream",
     "text": [
      " I AM TRUE\n"
     ]
    }
   ],
   "source": [
    "# IF ELSE STATEMENT\n",
    "if True:\n",
    "    print(' I AM TRUE')\n",
    "\n",
    "if False:\n",
    "    print('I AM FALSE')"
   ]
  },
  {
   "cell_type": "code",
   "execution_count": 11,
   "id": "93bec056",
   "metadata": {},
   "outputs": [
    {
     "name": "stdout",
     "output_type": "stream",
     "text": [
      "not satisfy the criteria\n"
     ]
    }
   ],
   "source": [
    "'''\n",
    "Logic\n",
    "if<condition>:\n",
    "    print(\"output1\")\n",
    "else:\n",
    "    print(\"output2\")\n",
    "'''\n",
    "\n",
    "num = 100\n",
    "\n",
    "if num > 100:\n",
    "    print('The number is Satify criteria')\n",
    "else:\n",
    "    print('not satisfy the criteria')"
   ]
  },
  {
   "cell_type": "code",
   "execution_count": null,
   "id": "75de3d62",
   "metadata": {},
   "outputs": [],
   "source": [
    "#guessing the number game\n",
    "\n",
    "'''\n",
    "logic\n",
    "1.enter the number\n",
    "2.write logic code to guess the number \n",
    "3.output\n",
    "'''\n",
    "\n",
    "number = float(input('enter the number between 1 to 3:'))\n",
    "\n",
    "if number == 1:\n",
    "    print('the number 1')\n",
    "if number == 2:\n",
    "    print('the number 2')\n",
    "if number == 3:\n",
    "    print('the number 3')"
   ]
  },
  {
   "cell_type": "code",
   "execution_count": null,
   "id": "0d238b56",
   "metadata": {},
   "outputs": [
    {
     "name": "stdout",
     "output_type": "stream",
     "text": [
      "No, it's not a palindrome\n"
     ]
    }
   ],
   "source": [
    "#whether given string is palindrome or not\n",
    "'''\n",
    "1.ask user to enter the string\n",
    "2.reverse the sring \n",
    "3.use if else logic\n",
    "'''\n",
    "\n",
    "# Simple palindrome check in Python\n",
    "\n",
    "text = input(\"Enter a string: \")\n",
    "\n",
    "if text == text[::-1]: # comparison operator (==)\n",
    "    print(\"Yes, it's a palindrome\")\n",
    "else:\n",
    "    print(\"No, it's not a palindrome\")\n"
   ]
  },
  {
   "cell_type": "code",
   "execution_count": null,
   "id": "5e5b42c8",
   "metadata": {},
   "outputs": [
    {
     "ename": "ValueError",
     "evalue": "invalid literal for int() with base 10: ''",
     "output_type": "error",
     "traceback": [
      "\u001b[31m---------------------------------------------------------------------------\u001b[39m",
      "\u001b[31mValueError\u001b[39m                                Traceback (most recent call last)",
      "\u001b[36mCell\u001b[39m\u001b[36m \u001b[39m\u001b[32mIn[103]\u001b[39m\u001b[32m, line 3\u001b[39m\n\u001b[32m      1\u001b[39m \u001b[38;5;66;03m#EXAMPLE:STUDENTS MARKS\u001b[39;00m\n\u001b[32m----> \u001b[39m\u001b[32m3\u001b[39m marks = \u001b[38;5;28;43mint\u001b[39;49m\u001b[43m(\u001b[49m\u001b[38;5;28;43minput\u001b[39;49m\u001b[43m(\u001b[49m\u001b[33;43m\"\u001b[39;49m\u001b[33;43mEnter student\u001b[39;49m\u001b[33;43m'\u001b[39;49m\u001b[33;43ms marks: \u001b[39;49m\u001b[33;43m\"\u001b[39;49m\u001b[43m)\u001b[49m\u001b[43m)\u001b[49m\n\u001b[32m      5\u001b[39m \u001b[38;5;28;01mif\u001b[39;00m marks >= \u001b[32m90\u001b[39m:\n\u001b[32m      6\u001b[39m     \u001b[38;5;28mprint\u001b[39m(\u001b[33m\"\u001b[39m\u001b[33mExcellent\u001b[39m\u001b[33m\"\u001b[39m)\n",
      "\u001b[31mValueError\u001b[39m: invalid literal for int() with base 10: ''"
     ]
    }
   ],
   "source": [
    "#EXAMPLE:STUDENTS MARKS\n",
    "\n",
    "marks = int(input(\"Enter student's marks: \"))\n",
    "\n",
    "if marks >= 90:\n",
    "    print(\"Excellent\")\n",
    "elif 80 <= marks < 90:\n",
    "    print(\"Good\")\n",
    "elif 60 <= marks <= 70:\n",
    "    print(\"Moderate\")\n",
    "else:\n",
    "    print(\"Average\")\n"
   ]
  },
  {
   "cell_type": "code",
   "execution_count": null,
   "id": "799d2aa1",
   "metadata": {},
   "outputs": [
    {
     "name": "stdout",
     "output_type": "stream",
     "text": [
      "the volume of cylinder is 9.42 mm^3\n"
     ]
    }
   ],
   "source": [
    "# Example : write a program to print volume of cylinder\n",
    "'''\n",
    "volume = Area * Height\n",
    "step 1: ask user to enter the diameter of cylinder\n",
    "step 2: ask user to enter the height of cylinder\n",
    "step 3: volume = area * height\n",
    "step 4: print the desired output \n",
    "'''\n",
    "PI=3.14\n",
    "diameter = float(input(\"enter the diameter of cylinder:\"))\n",
    "height = float(input(\"enter the height of cylinder\"))\n",
    "volume = (PI/4)*(diameter**2) * height\n",
    "\n",
    "print(f'the volume of cylinder is {volume} mm^3')\n"
   ]
  },
  {
   "cell_type": "code",
   "execution_count": null,
   "id": "7563e67f",
   "metadata": {},
   "outputs": [
    {
     "name": "stdout",
     "output_type": "stream",
     "text": [
      "0\n",
      "1\n",
      "2\n",
      "3\n",
      "4\n",
      "5\n",
      "6\n",
      "7\n",
      "8\n",
      "9\n"
     ]
    }
   ],
   "source": [
    "#FOR LOOP\n",
    "for i in range(0,10):\n",
    "    print(i)"
   ]
  },
  {
   "cell_type": "code",
   "execution_count": null,
   "id": "3c682d8f",
   "metadata": {},
   "outputs": [
    {
     "name": "stdout",
     "output_type": "stream",
     "text": [
      "0\n",
      "2\n",
      "4\n",
      "6\n",
      "8\n"
     ]
    }
   ],
   "source": [
    "# EVEN NUMBER \n",
    "for i in range(0,10,2):\n",
    "    print(i)"
   ]
  },
  {
   "cell_type": "code",
   "execution_count": null,
   "id": "65b33172",
   "metadata": {},
   "outputs": [
    {
     "name": "stdout",
     "output_type": "stream",
     "text": [
      "0 1 2 3 4 5 6 7 8 9 "
     ]
    }
   ],
   "source": [
    "for i in range(0,10):\n",
    "    print(i,end = ' ')"
   ]
  },
  {
   "cell_type": "code",
   "execution_count": null,
   "id": "f78939fb",
   "metadata": {},
   "outputs": [
    {
     "name": "stdout",
     "output_type": "stream",
     "text": [
      "\n",
      "#\n",
      "##\n",
      "###\n",
      "####\n",
      "#####\n",
      "######\n",
      "#######\n",
      "########\n",
      "#########\n"
     ]
    }
   ],
   "source": [
    "for i in range (10):\n",
    "    print('#'*i)"
   ]
  },
  {
   "cell_type": "code",
   "execution_count": null,
   "id": "1c8287b6",
   "metadata": {},
   "outputs": [
    {
     "name": "stdout",
     "output_type": "stream",
     "text": [
      "0\n",
      "1\n",
      "2\n",
      "3\n",
      "4\n",
      "5\n",
      "6\n"
     ]
    }
   ],
   "source": [
    "for i in range(0,10):\n",
    "    print(i)\n",
    "    if i == 6:\n",
    "        break"
   ]
  },
  {
   "cell_type": "code",
   "execution_count": null,
   "id": "31cff289",
   "metadata": {},
   "outputs": [
    {
     "name": "stdout",
     "output_type": "stream",
     "text": [
      "0\n",
      "1\n",
      "2\n",
      "3\n",
      "4\n",
      "5\n",
      "6\n",
      "7\n",
      "8\n",
      "9\n"
     ]
    }
   ],
   "source": [
    "for i in range(0,10):\n",
    "    print(i)\n",
    "    if i == 6:\n",
    "        pass"
   ]
  },
  {
   "cell_type": "code",
   "execution_count": null,
   "id": "5b582156",
   "metadata": {},
   "outputs": [],
   "source": [
    "#define function : test\n",
    "\n",
    "def test():\n",
    "    pass \n",
    "\n",
    "test()"
   ]
  },
  {
   "cell_type": "code",
   "execution_count": null,
   "id": "736db9f6",
   "metadata": {},
   "outputs": [
    {
     "name": "stdout",
     "output_type": "stream",
     "text": [
      "the given string is a palindrome\n"
     ]
    }
   ],
   "source": [
    "#examole :\n",
    "#palindrome function definition\n",
    "def Palindrom():\n",
    "    text1 = input('enter the string:')\n",
    "    text2 = text1[::-1]\n",
    "\n",
    "    if text1 == text2:\n",
    "        print(\"the given string is a palindrome\")\n",
    "    else:\n",
    "        print(\"not a palindrome\")\n",
    "        \n",
    "Palindrom() #function calling"
   ]
  },
  {
   "cell_type": "code",
   "execution_count": null,
   "id": "fa541f36",
   "metadata": {},
   "outputs": [
    {
     "name": "stdout",
     "output_type": "stream",
     "text": [
      "the answer is 300\n"
     ]
    }
   ],
   "source": [
    "#addition of two number \n",
    "def compute(num1,num2):\n",
    "    num3 = num1 +num2\n",
    "    return num3\n",
    "ans = compute(100,200) # function calling\n",
    "\n",
    "print(f'the answer is {ans}')\n"
   ]
  },
  {
   "cell_type": "code",
   "execution_count": null,
   "id": "07d6961a",
   "metadata": {},
   "outputs": [
    {
     "name": "stdout",
     "output_type": "stream",
     "text": [
      "[1, 2, 3, 100.1, 200.3, (3+4j), 'hello world', True, [1, 2, 3], 100]\n",
      "[0, 1, 2, 3, 100.1, 200.3, (3+4j), 'hello world', True, [1, 2, 3], 100]\n"
     ]
    }
   ],
   "source": [
    "# Data structure of python programming\n",
    "'''\n",
    "1.list\n",
    "2.tuple\n",
    "3.dictionary\n",
    "4.sets\n",
    "'''\n",
    "\n",
    "#List\n",
    "\n",
    "a= [1,2,3,100.1,200.3,3+4j,'hello world',True,[1,2,3]]\n",
    "a.append(100)\n",
    "print(a)\n",
    "\n",
    "a.insert(0,0)\n",
    "print(a)\n"
   ]
  },
  {
   "cell_type": "code",
   "execution_count": null,
   "id": "ba5792a3",
   "metadata": {},
   "outputs": [
    {
     "name": "stdout",
     "output_type": "stream",
     "text": [
      "[0, 1, 2, 3, 100.1, 200.3, (3+4j), 'hello world', True, [1, 2, 3]]\n"
     ]
    }
   ],
   "source": [
    "\n",
    "a.pop()\n",
    "print(a)"
   ]
  },
  {
   "cell_type": "code",
   "execution_count": null,
   "id": "453227b2",
   "metadata": {},
   "outputs": [
    {
     "name": "stdout",
     "output_type": "stream",
     "text": [
      "[1, 2, 3, 100.1, 200.3, (3+4j), 'hello world', True, [1, 2, 3]]\n"
     ]
    }
   ],
   "source": [
    "a.remove(0)\n",
    "print(a)"
   ]
  },
  {
   "cell_type": "code",
   "execution_count": null,
   "id": "c8ad7244",
   "metadata": {},
   "outputs": [
    {
     "name": "stdout",
     "output_type": "stream",
     "text": [
      "2\n"
     ]
    }
   ],
   "source": [
    "'''\n",
    "any function defined inside a class called as method \n",
    "Example: in a list a = [100,200,300]\n",
    "a.append(400)\n",
    "here,append() is function, but this function is defined inside a class list so it is called method \n",
    "list is mutable in nature  \n",
    "'''\n",
    "\n",
    "print(a.count(1))"
   ]
  },
  {
   "cell_type": "code",
   "execution_count": null,
   "id": "def77111",
   "metadata": {},
   "outputs": [
    {
     "name": "stdout",
     "output_type": "stream",
     "text": [
      "[1000, 2000, 3000, 5000, 6000]\n"
     ]
    }
   ],
   "source": [
    "lst = [1000,5000,6000,2000,3000]\n",
    "lst.sort()\n",
    "print(lst)"
   ]
  },
  {
   "cell_type": "code",
   "execution_count": null,
   "id": "8271d905",
   "metadata": {},
   "outputs": [
    {
     "name": "stdout",
     "output_type": "stream",
     "text": [
      "[6000, 5000, 3000, 2000, 1000]\n"
     ]
    }
   ],
   "source": [
    "lst.reverse()\n",
    "print(lst)"
   ]
  },
  {
   "cell_type": "code",
   "execution_count": null,
   "id": "43875962",
   "metadata": {},
   "outputs": [
    {
     "name": "stdout",
     "output_type": "stream",
     "text": [
      "300\n"
     ]
    }
   ],
   "source": [
    "lst=[100,200,[300],400]\n",
    "print(lst[2][0])"
   ]
  },
  {
   "cell_type": "code",
   "execution_count": null,
   "id": "a198ce89",
   "metadata": {},
   "outputs": [
    {
     "name": "stdout",
     "output_type": "stream",
     "text": [
      "5\n",
      "1000\n"
     ]
    }
   ],
   "source": [
    "lst=[1,[2,3,4,5,[6,7,[10,[1000],110,],200,300],10],1]\n",
    "print(lst[1][3])\n",
    "print(lst[1][4][2][1][0])"
   ]
  },
  {
   "cell_type": "code",
   "execution_count": null,
   "id": "f427848d",
   "metadata": {},
   "outputs": [
    {
     "name": "stdout",
     "output_type": "stream",
     "text": [
      "300\n",
      "300\n"
     ]
    }
   ],
   "source": [
    "print(lst[-2][-2][-1])\n",
    "print(lst[1][4][4])"
   ]
  },
  {
   "cell_type": "code",
   "execution_count": null,
   "id": "59e9ec2e",
   "metadata": {},
   "outputs": [
    {
     "name": "stdout",
     "output_type": "stream",
     "text": [
      "8\n",
      "[4, 5, [6], [7]]\n",
      "8\n"
     ]
    }
   ],
   "source": [
    "lst=[100,200,300,[1,2,[3,4,5,[6],[7],[8,[9],1],1],1],1]\n",
    "print(lst[3][2][5][0])\n",
    "print(lst[3][2][1:5])\n",
    "print(lst[-2][-2][-2][-3])"
   ]
  },
  {
   "cell_type": "code",
   "execution_count": null,
   "id": "3e3ab259",
   "metadata": {},
   "outputs": [
    {
     "data": {
      "text/plain": [
       "1"
      ]
     },
     "execution_count": 40,
     "metadata": {},
     "output_type": "execute_result"
    }
   ],
   "source": [
    "#tuple\n",
    "\n",
    "b=(100,200,'hello wprld',True,False,(123,2,5))\n",
    "b.count(100)"
   ]
  },
  {
   "cell_type": "code",
   "execution_count": null,
   "id": "88c576d8",
   "metadata": {},
   "outputs": [
    {
     "name": "stdout",
     "output_type": "stream",
     "text": [
      "even number [10, 30, 50]\n",
      "odd number [21, 41]\n"
     ]
    }
   ],
   "source": [
    "#example\n",
    "lst = [10,21,30,41,50]\n",
    "even = []\n",
    "odd = []\n",
    "\n",
    "for i in lst:\n",
    "    if i%2 == 0:\n",
    "        even.append(i)\n",
    "    else:\n",
    "        odd.append(i)\n",
    "print('even number',even)\n",
    "print('odd number',odd)\n",
    "    "
   ]
  },
  {
   "cell_type": "code",
   "execution_count": null,
   "id": "258966d0",
   "metadata": {},
   "outputs": [
    {
     "name": "stdout",
     "output_type": "stream",
     "text": [
      "(50, 60)\n"
     ]
    }
   ],
   "source": [
    "tup = (1,2,3,[4,5,6,7],[10,20,(30,40,(50,60,(70)))])\n",
    "\n",
    "print(tup[4][2][2][0:2])"
   ]
  },
  {
   "cell_type": "code",
   "execution_count": null,
   "id": "1dd8cef5",
   "metadata": {},
   "outputs": [
    {
     "name": "stdout",
     "output_type": "stream",
     "text": [
      "<class 'tuple'>\n",
      "<class 'list'>\n",
      "[10, 20, 30, 40, 50]\n"
     ]
    }
   ],
   "source": [
    "#example\n",
    "\n",
    "tup = (10,20,30,40)\n",
    "print(type(tup))\n",
    "\n",
    "#typecase\n",
    "tup = list(tup)\n",
    "\n",
    "print(type(tup))\n",
    "\n",
    "tup.append(50)\n",
    "\n",
    "\n",
    "print(tup)"
   ]
  },
  {
   "cell_type": "code",
   "execution_count": null,
   "id": "4d1cde0c",
   "metadata": {},
   "outputs": [
    {
     "name": "stdout",
     "output_type": "stream",
     "text": [
      "dict_keys(['1'])\n",
      "dict_values([10])\n"
     ]
    }
   ],
   "source": [
    "#dictionary\n",
    "\n",
    "#dict = {'key1':value}\n",
    "\n",
    "d={'1':10}  # 1 is key and 10 is value\n",
    "\n",
    "print(d.keys())\n",
    "print(d.values())"
   ]
  },
  {
   "cell_type": "code",
   "execution_count": null,
   "id": "0df2464d",
   "metadata": {},
   "outputs": [
    {
     "name": "stdout",
     "output_type": "stream",
     "text": [
      "1000\n"
     ]
    }
   ],
   "source": [
    "d = {'india':1000,'usa':2000,'uk':3000}\n",
    "print(d['india'])"
   ]
  },
  {
   "cell_type": "code",
   "execution_count": null,
   "id": "db01d19a",
   "metadata": {},
   "outputs": [
    {
     "name": "stdout",
     "output_type": "stream",
     "text": [
      "2000\n"
     ]
    }
   ],
   "source": [
    "d = {'india':[1000,2000,3000,4000],'usa':2000,'uk':3000}\n",
    "print(d['india'][1])"
   ]
  },
  {
   "cell_type": "code",
   "execution_count": null,
   "id": "3368c6ea",
   "metadata": {},
   "outputs": [
    {
     "name": "stdout",
     "output_type": "stream",
     "text": [
      "5\n"
     ]
    }
   ],
   "source": [
    "d = {'india':[1,2,3,[4,[5]]],'usa':[100,200,300]}\n",
    "print(d['india'][3][1][0])"
   ]
  },
  {
   "cell_type": "code",
   "execution_count": null,
   "id": "692f3f46",
   "metadata": {},
   "outputs": [
    {
     "data": {
      "text/plain": [
       "{'usa': 1000, 'india': 2000}"
      ]
     },
     "execution_count": 8,
     "metadata": {},
     "output_type": "execute_result"
    }
   ],
   "source": [
    "#example: type cast d to dictinary\n",
    "d = [('usa',1000),('india',2000)]\n",
    "d = dict(d)\n",
    "d"
   ]
  },
  {
   "cell_type": "code",
   "execution_count": null,
   "id": "dab8069c",
   "metadata": {},
   "outputs": [
    {
     "data": {
      "text/plain": [
       "{'usa': 1000, 'uk': 3000}"
      ]
     },
     "execution_count": 13,
     "metadata": {},
     "output_type": "execute_result"
    }
   ],
   "source": [
    "#insert value in dict\n",
    "d['uk']=3000\n",
    "d"
   ]
  },
  {
   "cell_type": "code",
   "execution_count": null,
   "id": "9962201b",
   "metadata": {},
   "outputs": [
    {
     "data": {
      "text/plain": [
       "{'usa': 1000}"
      ]
     },
     "execution_count": 15,
     "metadata": {},
     "output_type": "execute_result"
    }
   ],
   "source": [
    "#del is keyword for delete key value in dictionary \n",
    "del d['uk']\n",
    "d"
   ]
  },
  {
   "cell_type": "code",
   "execution_count": null,
   "id": "83ddfefe",
   "metadata": {},
   "outputs": [
    {
     "data": {
      "text/plain": [
       "{'usa': 1000, 'india': 1000}"
      ]
     },
     "execution_count": 16,
     "metadata": {},
     "output_type": "execute_result"
    }
   ],
   "source": [
    "#insert value in dict\n",
    "d['india']=1000\n",
    "d"
   ]
  },
  {
   "cell_type": "code",
   "execution_count": null,
   "id": "e5fc5e50",
   "metadata": {},
   "outputs": [
    {
     "name": "stdout",
     "output_type": "stream",
     "text": [
      "<class 'set'>\n",
      "{50, 20, 40, 10, 30}\n"
     ]
    }
   ],
   "source": [
    "#set\n",
    "\n",
    "d = {10,20,30,40}\n",
    "print(type(d))\n",
    "\n",
    "d={10,10,20,30,40,50}\n",
    "print(d)"
   ]
  },
  {
   "cell_type": "code",
   "execution_count": null,
   "id": "83682acb",
   "metadata": {},
   "outputs": [
    {
     "name": "stdout",
     "output_type": "stream",
     "text": [
      "HELLO WELCOME TO THE WORLD OF PYTHON PROGRAMMING\n",
      "hello welcome to the world of python programming\n",
      "Hello welcome to the world of python programming\n",
      "False\n",
      "False\n",
      "True\n"
     ]
    }
   ],
   "source": [
    "# string\n",
    "\n",
    "str = 'hello welcome to the world of python programming'\n",
    "\n",
    "print(str.upper())\n",
    "print(str.lower())\n",
    "print(str.capitalize())\n",
    "print(str.isalnum())\n",
    "print(str.isalpha())\n",
    "print(str.islower())\n",
    "\n"
   ]
  },
  {
   "cell_type": "code",
   "execution_count": null,
   "id": "8e1f991a",
   "metadata": {},
   "outputs": [
    {
     "name": "stdout",
     "output_type": "stream",
     "text": [
      "['HELLO', 'WORLD', 'PYTHON', 'PROGRAMMING']\n",
      "['of']\n"
     ]
    }
   ],
   "source": [
    "#Example\n",
    "str = ['hello','world','of','python','programming']\n",
    "\n",
    "bucket=[]\n",
    "bucket1=[]\n",
    "for i in str:\n",
    "    if len(i) > 4:\n",
    "        bucket.append(i.upper())\n",
    "    else:\n",
    "        bucket1.append(i)\n",
    "        \n",
    "print(bucket)\n",
    "print(bucket1)    \n",
    "    "
   ]
  },
  {
   "cell_type": "code",
   "execution_count": null,
   "id": "929e46ff",
   "metadata": {},
   "outputs": [
    {
     "name": "stdout",
     "output_type": "stream",
     "text": [
      "[2, 4, 6, 8, 10, 12, 14, 16, 18, 20]\n"
     ]
    }
   ],
   "source": [
    "# write a even number till 20  in a list\n",
    "num = []\n",
    "def square():\n",
    "    for i in range(1,21):\n",
    "        if i%2 == 0:\n",
    "            num.append(i)\n",
    "    return num\n",
    "num = square()\n",
    "print(num)"
   ]
  },
  {
   "cell_type": "code",
   "execution_count": null,
   "id": "e51a8bdd",
   "metadata": {},
   "outputs": [
    {
     "name": "stdout",
     "output_type": "stream",
     "text": [
      "300\n"
     ]
    }
   ],
   "source": [
    "# function definition : UDA (user define function)\n",
    "#1. user defined function without parameter\n",
    "\n",
    "def add():\n",
    "    num1=100\n",
    "    num2=200\n",
    "    \n",
    "    return num1 + num2  # retrn an expression\n",
    "print (add())   #function calling \n",
    "\n"
   ]
  },
  {
   "cell_type": "code",
   "execution_count": null,
   "id": "14d92be1",
   "metadata": {},
   "outputs": [
    {
     "name": "stdout",
     "output_type": "stream",
     "text": [
      "50\n"
     ]
    }
   ],
   "source": [
    "# 2. user defined function with parameter\n",
    "\n",
    "def add(num1,num2):     # functiom definition with parameter\n",
    "    num3 = num1 + num2  #expression\n",
    "    return num3          # return expression value\n",
    "ans = add(20,30)   #function calling\n",
    "print(ans)"
   ]
  },
  {
   "cell_type": "code",
   "execution_count": null,
   "id": "a38f1391",
   "metadata": {},
   "outputs": [
    {
     "name": "stdout",
     "output_type": "stream",
     "text": [
      "the answer is: 50\n"
     ]
    }
   ],
   "source": [
    "#3. user defined function (udf) with parameters\n",
    "\n",
    "def add(num1,num2):\n",
    "    num3 = num1 +num2\n",
    "    print('the answer is:',num3)\n",
    "    \n",
    "add(20,30)"
   ]
  },
  {
   "cell_type": "code",
   "execution_count": null,
   "id": "737487f9",
   "metadata": {},
   "outputs": [
    {
     "name": "stdout",
     "output_type": "stream",
     "text": [
      "invalid\n"
     ]
    }
   ],
   "source": [
    "#4 . create calculator using concept of UDF\n",
    "number1 = float(input(\"enter the first number\"))\n",
    "number2 = float(input(\"enter the second number\"))\n",
    "choice = input(\"enter the choice : 1/2/3/4\")\n",
    "\n",
    "def add(number1,number2):\n",
    "    number3 = number1 + number2\n",
    "    return number3\n",
    "def sub(number1,number2):\n",
    "    number3 = number1 - number2\n",
    "    return number3\n",
    "def mul(number1,number2):\n",
    "    number3 = number1 * number2\n",
    "    return number3\n",
    "def div(number1,number2):\n",
    "    number3 = number1 / number2\n",
    "    return number3\n",
    "\n",
    "\n",
    "if choice == '1':\n",
    "    ans = add(number1,number2)\n",
    "    print(f'the addition of two number {number1} and {number2} is {ans}')\n",
    "    \n",
    "\n",
    "elif choice == '2':\n",
    "    ans = sub(number1,number2)\n",
    "    print(f'the sub of two number {number1} and {number2} is {ans}')\n",
    "    \n",
    "\n",
    "elif choice == '3':\n",
    "    ans = mul(number1,number2)\n",
    "    print(f'the mul of two number {number1} and {number2} is {ans}')\n",
    "\n",
    "\n",
    "elif choice == '4':\n",
    "    ans = div(number1,number2)\n",
    "    print(f'the div of two number {number1} and {number2} is {ans}')\n",
    "    \n",
    "else:\n",
    "    print(\"invalid\")\n",
    "\n"
   ]
  },
  {
   "cell_type": "code",
   "execution_count": null,
   "id": "b42184d6",
   "metadata": {},
   "outputs": [
    {
     "name": "stdout",
     "output_type": "stream",
     "text": [
      "25\n",
      "[1, 3, 5, 7, 9]\n"
     ]
    }
   ],
   "source": [
    "def compute():\n",
    "    lst=[ ]\n",
    "    sum = 0\n",
    "    for i in range(1,11):\n",
    "        if i%2 != 0:\n",
    "            lst.append(i)\n",
    "            sum = sum + i\n",
    "    return sum,lst\n",
    "\n",
    "sum,lst = compute()\n",
    "print(sum)\n",
    "print(lst)\n",
    "            \n",
    "        "
   ]
  },
  {
   "cell_type": "code",
   "execution_count": null,
   "id": "fbdd5e7b",
   "metadata": {},
   "outputs": [
    {
     "name": "stdout",
     "output_type": "stream",
     "text": [
      "100\n"
     ]
    }
   ],
   "source": [
    "num = 100 # variable definition\n",
    "def test():   # function definition\n",
    "    global num # global variable definition \n",
    "    print(num) \n",
    "test() # function calling"
   ]
  },
  {
   "cell_type": "code",
   "execution_count": null,
   "id": "184d85ff",
   "metadata": {},
   "outputs": [
    {
     "name": "stdout",
     "output_type": "stream",
     "text": [
      "pragya\n",
      "PARTH\n"
     ]
    }
   ],
   "source": [
    "class Employee: \n",
    "    def __init__(self,Name,Age,Position):\n",
    "        self.Name = Name\n",
    "        self.Age = Age\n",
    "        self.Position = Position\n",
    "\n",
    "    def details(self):\n",
    "        print(f'name:{self.name}','age:{self.age}','position:{self.position}')\n",
    "\n",
    "class Manager(Employee):\n",
    "    def __init__(self, Name, Age, Position, Department):\n",
    "        super().__init__(Name, Age, Position)\n",
    "        self.department = Department\n",
    "\n",
    "    def details(self):\n",
    "        print(f'name:{self.Name}','age:{self.Age}','position:{self.Position}')\n",
    "        print(f'Department:{self.Department}')\n",
    "\n",
    "\n",
    "emp1 = Employee(\"pragya\",19,\"HR\")\n",
    "emp2 = Manager(\"PARTH\",21,\"IT\",\"DSDA\")\n",
    "\n",
    "print(emp1.Name)\n",
    "print(emp2.Name)"
   ]
  },
  {
   "cell_type": "code",
   "execution_count": null,
   "id": "2e7f4f75",
   "metadata": {},
   "outputs": [
    {
     "name": "stdout",
     "output_type": "stream",
     "text": [
      "petrol\n"
     ]
    }
   ],
   "source": [
    "class car:  #parent class\n",
    "    \n",
    "    # define constructor\n",
    "    def __init__(self,enginetype,color,wheels):\n",
    "        self.wheels = wheels\n",
    "        self.colour = color\n",
    "        self.enginetype = enginetype\n",
    "        \n",
    "    #class function : method\n",
    "    def mileage(self):\n",
    "        self.mileage = 30\n",
    "        print(self.mileage)\n",
    "        \n",
    "        \n",
    "#object :BMW\n",
    "BMW = car(\"Petrol\",\"maroon\",\"4\")\n",
    "\n",
    "class PetrolCar(car):   #child class\n",
    "    def __init__(self,enginetype,wheels,color):\n",
    "        super().__init__(self,enginetype,wheels,color)\n",
    "        self.enginetype =\"Petrol\"\n",
    "        self.wheels =\"4\"\n",
    "        self.color =\"Red\"\n",
    "        \n",
    "    def Sound(self):\n",
    "        print('peeeeeep')\n",
    "        \n",
    "        \n",
    "        \n",
    "class DiselCar(car):   #child class\n",
    "    def __init__(self,enginetype,wheels,color):\n",
    "        super().__init__(self,enginetype,wheels,color)\n",
    "        self.enginetype =\"Disel\"\n",
    "        self.wheels = \"4\"\n",
    "        self.color = \"White\"\n",
    "        \n",
    "    def Sound(self):\n",
    "        print('Pooooompp')\n",
    "        \n",
    "class EVCar(car):    #child class\n",
    "    def __init__(self,enginetype,wheels,color):\n",
    "        super().__init__(self,enginetype,wheels,color)\n",
    "        self.enginetype =\"Battery Operated\"\n",
    "        self.wheels = \"4\"\n",
    "        self.color = \"Blue\"\n",
    "        \n",
    "    def Sound(self):\n",
    "        print(\"No Sound...\")\n",
    "\n",
    "\n",
    "# object :BMW\n",
    "BMW = car(\"petrol\",\"Red\",4)\n",
    "\n",
    "print(BMW.enginetype)\n"
   ]
  },
  {
   "cell_type": "code",
   "execution_count": null,
   "id": "db8b7a9a",
   "metadata": {},
   "outputs": [
    {
     "name": "stdout",
     "output_type": "stream",
     "text": [
      "5000 withdrawn + ₹100.0 tax (2%) applied.\n",
      "Vaibhav (NRI Account) - Current Balance: ₹94900.0\n",
      "\n",
      "10000 deposited with ₹100.0 bonus interest.\n",
      "Sangam (Saving Account) - Current Balance: ₹110100.0\n",
      "\n",
      "110000 withdrawn (Overdraft limit applied if needed).\n",
      "Gaurav (Current Account) - Current Balance: ₹-10000\n",
      "\n"
     ]
    }
   ],
   "source": [
    "'''  \n",
    "class Bank:\n",
    "    #class variable :\n",
    "    1. Balance_amount =  100000\n",
    "    2. credited_Amount\n",
    "    3. withdraw_amount \n",
    "    \n",
    "# Different Account types\n",
    "1. NRI Account\n",
    "2. Saving Account\n",
    "3. Current Account\n",
    "\n",
    "# Objects:\n",
    "1. vaibhav : NRI ACC\n",
    "2. Sangam : Saving Acc\n",
    "3. Gaurav : Current Acc\n",
    "'''\n",
    "\n",
    "# Base Class\n",
    "class Bank:\n",
    "    def __init__(self, name, acc_type, balance=100000):\n",
    "        self.name = name\n",
    "        self.acc_type = acc_type\n",
    "        self.balance = balance\n",
    "\n",
    "    def show_balance(self):\n",
    "        print(f\"{self.name} ({self.acc_type}) - Current Balance: ₹{self.balance}\\n\")\n",
    "\n",
    "    def deposit(self, amount):\n",
    "        self.balance += amount\n",
    "        print(f\"{amount} credited to {self.name}'s account.\")\n",
    "        self.show_balance()\n",
    "\n",
    "    def withdraw(self, amount):\n",
    "        if amount <= self.balance:\n",
    "            self.balance -= amount\n",
    "            print(f\"{amount} withdrawn from {self.name}'s account.\")\n",
    "        else:\n",
    "            print(f\"Insufficient funds in {self.name}'s account!\")\n",
    "        self.show_balance()\n",
    "\n",
    "\n",
    "# Child Class 1 - NRI Account\n",
    "class NRIAccount(Bank):\n",
    "    def __init__(self, name):\n",
    "        super().__init__(name, \"NRI Account\")\n",
    "    \n",
    "    # Override withdraw (e.g., with extra tax)\n",
    "    def withdraw(self, amount):\n",
    "        tax = amount * 0.02   # 2% tax on NRI withdrawal\n",
    "        total = amount + tax\n",
    "        if total <= self.balance:\n",
    "            self.balance -= total\n",
    "            print(f\"{amount} withdrawn + ₹{tax} tax (2%) applied.\")\n",
    "        else:\n",
    "            print(\"Insufficient funds for withdrawal including tax.\")\n",
    "        self.show_balance()\n",
    "\n",
    "\n",
    "# Child Class 2 - Saving Account\n",
    "class SavingAccount(Bank):\n",
    "    def __init__(self, name):\n",
    "        super().__init__(name, \"Saving Account\")\n",
    "\n",
    "    # Special interest for deposit\n",
    "    def deposit(self, amount):\n",
    "        bonus = amount * 0.01   # 1% bonus interest\n",
    "        total = amount + bonus\n",
    "        self.balance += total\n",
    "        print(f\"{amount} deposited with ₹{bonus} bonus interest.\")\n",
    "        self.show_balance()\n",
    "\n",
    "\n",
    "# Child Class 3 - Current Account\n",
    "class CurrentAccount(Bank):\n",
    "    def __init__(self, name):\n",
    "        super().__init__(name, \"Current Account\")\n",
    "\n",
    "    # Overdraft allowed up to ₹20,000\n",
    "    def withdraw(self, amount):\n",
    "        if amount <= self.balance + 20000:\n",
    "            self.balance -= amount\n",
    "            print(f\"{amount} withdrawn (Overdraft limit applied if needed).\")\n",
    "        else:\n",
    "            print(\"Overdraft limit exceeded!\")\n",
    "        self.show_balance()\n",
    "\n",
    "\n",
    "# Creating Objects\n",
    "vaibhav = NRIAccount(\"Vaibhav\")\n",
    "sangam = SavingAccount(\"Sangam\")\n",
    "gaurav = CurrentAccount(\"Gaurav\")\n",
    "\n",
    "# Perform Transactions\n",
    "vaibhav.withdraw(5000)\n",
    "sangam.deposit(10000)\n",
    "gaurav.withdraw(110000)"
   ]
  },
  {
   "cell_type": "code",
   "execution_count": 2,
   "id": "c1699eb6",
   "metadata": {},
   "outputs": [
    {
     "name": "stdout",
     "output_type": "stream",
     "text": [
      "---- Students Details ----\n",
      "Student Name: Pragyaa\n",
      "Student ID: S101\n",
      "Course: Data Analytics\n",
      "Duration: 6 Months\n",
      "Experience: Beginner\n",
      "------------------------------\n",
      "Student Name: Vaibhav\n",
      "Student ID: S102\n",
      "Course: Python Programming\n",
      "Duration: 4 Months\n",
      "Experience: Intermediate\n",
      "------------------------------\n",
      "---- Trainer Details ----\n",
      "Trainer Name: Sangam\n",
      "Trainer ID: T201\n",
      "Course: Data Analytics\n",
      "Duration: 6 Months\n",
      "Experience: 5 Years\n",
      "------------------------------\n",
      "Trainer Name: Gaurav\n",
      "Trainer ID: T202\n",
      "Course: Python Programming\n",
      "Duration: 4 Months\n",
      "Experience: 3 Years\n",
      "------------------------------\n"
     ]
    }
   ],
   "source": [
    "''' \n",
    "class ITV\n",
    "    constructor\n",
    "    name\n",
    "    student_id\n",
    "    course\n",
    "    duration\n",
    "    experience\n",
    "    \n",
    "class students(ITV)\n",
    "    details\n",
    "class Trainer( ITV)\n",
    "    details\n",
    "Define:\n",
    "    -2 students object\n",
    "    -2 trainer object\n",
    "'''\n",
    "# Base class\n",
    "class ITV:\n",
    "    def __init__(self, name, student_id, course, duration, experience):\n",
    "        self.name = name\n",
    "        self.student_id = student_id\n",
    "        self.course = course\n",
    "        self.duration = duration\n",
    "        self.experience = experience\n",
    "\n",
    "# Derived class for Students\n",
    "class Students(ITV):\n",
    "    def details(self):\n",
    "        print(f\"Student Name: {self.name}\")\n",
    "        print(f\"Student ID: {self.student_id}\")\n",
    "        print(f\"Course: {self.course}\")\n",
    "        print(f\"Duration: {self.duration}\")\n",
    "        print(f\"Experience: {self.experience}\")\n",
    "        print(\"-\" * 30)\n",
    "\n",
    "# Derived class for Trainer\n",
    "class Trainer(ITV):\n",
    "    def details(self):\n",
    "        print(f\"Trainer Name: {self.name}\")\n",
    "        print(f\"Trainer ID: {self.student_id}\")\n",
    "        print(f\"Course: {self.course}\")\n",
    "        print(f\"Duration: {self.duration}\")\n",
    "        print(f\"Experience: {self.experience}\")\n",
    "        print(\"-\" * 30)\n",
    "\n",
    "# Creating 2 student objects\n",
    "student1 = Students(\"Pragyaa\", \"S101\", \"Data Analytics\", \"6 Months\", \"Beginner\")\n",
    "student2 = Students(\"Vaibhav\", \"S102\", \"Python Programming\", \"4 Months\", \"Intermediate\")\n",
    "\n",
    "# Creating 2 trainer objects\n",
    "trainer1 = Trainer(\"Sangam\", \"T201\", \"Data Analytics\", \"6 Months\", \"5 Years\")\n",
    "trainer2 = Trainer(\"Gaurav\", \"T202\", \"Python Programming\", \"4 Months\", \"3 Years\")\n",
    "\n",
    "# Displaying details\n",
    "print(\"---- Students Details ----\")\n",
    "student1.details()\n",
    "student2.details()\n",
    "\n",
    "print(\"---- Trainer Details ----\")\n",
    "trainer1.details()\n",
    "trainer2.details()\n"
   ]
  },
  {
   "cell_type": "code",
   "execution_count": 4,
   "id": "41a19437",
   "metadata": {},
   "outputs": [
    {
     "name": "stdout",
     "output_type": "stream",
     "text": [
      "6\n",
      "5\n",
      "5.0\n",
      "5.0\n",
      "625.0\n",
      "120\n",
      "1.0\n",
      "30.0\n",
      "1.4771212547196624\n"
     ]
    }
   ],
   "source": [
    "import math\n",
    "a=math.ceil(5.5)\n",
    "print(a)\n",
    "\n",
    "a=math.floor(5.5)\n",
    "print(a)\n",
    "\n",
    "a=math.sqrt(25)\n",
    "print(a)\n",
    "\n",
    "a=25**0.5\n",
    "print(a)\n",
    "\n",
    "a=math.pow(25,2)\n",
    "print(a)\n",
    "\n",
    "a=math.factorial(5)\n",
    "print(a)\n",
    "\n",
    "a=math.cos(0)\n",
    "print(a)\n",
    "\n",
    "a=math.fabs(-30)\n",
    "print(a)\n",
    "\n",
    "a=math.log10(30)\n",
    "print(a)"
   ]
  }
 ],
 "metadata": {
  "kernelspec": {
   "display_name": "Python 3",
   "language": "python",
   "name": "python3"
  },
  "language_info": {
   "codemirror_mode": {
    "name": "ipython",
    "version": 3
   },
   "file_extension": ".py",
   "mimetype": "text/x-python",
   "name": "python",
   "nbconvert_exporter": "python",
   "pygments_lexer": "ipython3",
   "version": "3.12.11"
  }
 },
 "nbformat": 4,
 "nbformat_minor": 5
}
